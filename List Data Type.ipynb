{
 "cells": [
  {
   "cell_type": "markdown",
   "id": "1ec3def8",
   "metadata": {},
   "source": [
    "# List:\n",
    "A list is an ordered collection of items. A python list contains items separated by comma and enclosed with in square brackets([ ]).\n",
    "\n",
    "A list in python is used to store the sequence of various types of data in a single variable.Lists are one of 4 built-in data types in Python used to store collections of data, the other 3 are Tuple, Set, and Dictionary, all with different qualities and usage.\n",
    "\n",
    "List items are ordered, changeable, and allow duplicate values."
   ]
  },
  {
   "cell_type": "code",
   "execution_count": 4,
   "id": "fcceff05",
   "metadata": {},
   "outputs": [
    {
     "name": "stdout",
     "output_type": "stream",
     "text": [
      "['hii', 2, (2+3j), True, 1.0]\n",
      "<class 'list'>\n"
     ]
    }
   ],
   "source": [
    "x = [\"hii\",2,2+3j,True,1.0]\n",
    "print(x,type(x),sep=\"\\n\")"
   ]
  },
  {
   "cell_type": "markdown",
   "id": "053902d5",
   "metadata": {},
   "source": [
    "we can also use 'list()' to typecaste an iterator.\n",
    "\n",
    "since list are seq, we can perform indexing and slicing"
   ]
  },
  {
   "cell_type": "markdown",
   "id": "bd819e10",
   "metadata": {},
   "source": [
    "### indexing:"
   ]
  },
  {
   "cell_type": "code",
   "execution_count": 7,
   "id": "50e4e15a",
   "metadata": {},
   "outputs": [
    {
     "data": {
      "text/plain": [
       "2"
      ]
     },
     "execution_count": 7,
     "metadata": {},
     "output_type": "execute_result"
    }
   ],
   "source": [
    "#positive indexing.\n",
    "x = [\"hii\",2,2+3j,True,1.0]\n",
    "x[1]  "
   ]
  },
  {
   "cell_type": "code",
   "execution_count": 8,
   "id": "1004647a",
   "metadata": {},
   "outputs": [
    {
     "data": {
      "text/plain": [
       "True"
      ]
     },
     "execution_count": 8,
     "metadata": {},
     "output_type": "execute_result"
    }
   ],
   "source": [
    "x = [\"hii\",2,2+3j,True,1.0]\n",
    "x[3]"
   ]
  },
  {
   "cell_type": "code",
   "execution_count": 9,
   "id": "29b26583",
   "metadata": {},
   "outputs": [
    {
     "data": {
      "text/plain": [
       "(2+3j)"
      ]
     },
     "execution_count": 9,
     "metadata": {},
     "output_type": "execute_result"
    }
   ],
   "source": [
    "#negitive indexing\n",
    "x = [\"hii\",2,2+3j,True,1.0]\n",
    "x[-3]"
   ]
  },
  {
   "cell_type": "code",
   "execution_count": 10,
   "id": "6dada7b0",
   "metadata": {},
   "outputs": [
    {
     "data": {
      "text/plain": [
       "1.0"
      ]
     },
     "execution_count": 10,
     "metadata": {},
     "output_type": "execute_result"
    }
   ],
   "source": [
    "x = [\"hii\",2,2+3j,True,1.0]\n",
    "x[-1]"
   ]
  },
  {
   "cell_type": "markdown",
   "id": "f3fbddf7",
   "metadata": {},
   "source": [
    "### slicing:"
   ]
  },
  {
   "cell_type": "code",
   "execution_count": 11,
   "id": "ca9eef7f",
   "metadata": {},
   "outputs": [
    {
     "data": {
      "text/plain": [
       "['hii', 2, (2+3j), True, 1.0]"
      ]
     },
     "execution_count": 11,
     "metadata": {},
     "output_type": "execute_result"
    }
   ],
   "source": [
    "x = [\"hii\",2,2+3j,True,1.0]\n",
    "x"
   ]
  },
  {
   "cell_type": "code",
   "execution_count": 12,
   "id": "e7066d6d",
   "metadata": {},
   "outputs": [
    {
     "data": {
      "text/plain": [
       "[2, (2+3j), True, 1.0]"
      ]
     },
     "execution_count": 12,
     "metadata": {},
     "output_type": "execute_result"
    }
   ],
   "source": [
    "#positive slicing:\n",
    "x[1:5]"
   ]
  },
  {
   "cell_type": "code",
   "execution_count": 13,
   "id": "757907f1",
   "metadata": {},
   "outputs": [
    {
     "data": {
      "text/plain": [
       "['hii', 2, (2+3j), True]"
      ]
     },
     "execution_count": 13,
     "metadata": {},
     "output_type": "execute_result"
    }
   ],
   "source": [
    "x[:4]"
   ]
  },
  {
   "cell_type": "code",
   "execution_count": 14,
   "id": "6a206006",
   "metadata": {},
   "outputs": [
    {
     "data": {
      "text/plain": [
       "[2, (2+3j), True, 1.0]"
      ]
     },
     "execution_count": 14,
     "metadata": {},
     "output_type": "execute_result"
    }
   ],
   "source": [
    "x[1:]"
   ]
  },
  {
   "cell_type": "code",
   "execution_count": 15,
   "id": "8bc06c81",
   "metadata": {},
   "outputs": [
    {
     "data": {
      "text/plain": [
       "[2, (2+3j), True]"
      ]
     },
     "execution_count": 15,
     "metadata": {},
     "output_type": "execute_result"
    }
   ],
   "source": [
    "#negative slicing:\n",
    "x[-4:-1]"
   ]
  },
  {
   "cell_type": "code",
   "execution_count": 16,
   "id": "b5665867",
   "metadata": {},
   "outputs": [
    {
     "data": {
      "text/plain": [
       "['hii', 2]"
      ]
     },
     "execution_count": 16,
     "metadata": {},
     "output_type": "execute_result"
    }
   ],
   "source": [
    "x[-5:-3]"
   ]
  },
  {
   "cell_type": "code",
   "execution_count": 17,
   "id": "c3ad6e59",
   "metadata": {},
   "outputs": [
    {
     "data": {
      "text/plain": [
       "[1.0, True, (2+3j), 2, 'hii']"
      ]
     },
     "execution_count": 17,
     "metadata": {},
     "output_type": "execute_result"
    }
   ],
   "source": [
    "#reverse the list\n",
    "x[::-1]"
   ]
  },
  {
   "cell_type": "markdown",
   "id": "85ef27a9",
   "metadata": {},
   "source": [
    "### Methods in list:"
   ]
  },
  {
   "cell_type": "code",
   "execution_count": 18,
   "id": "60c217e1",
   "metadata": {},
   "outputs": [
    {
     "data": {
      "text/plain": [
       "['__add__',\n",
       " '__class__',\n",
       " '__class_getitem__',\n",
       " '__contains__',\n",
       " '__delattr__',\n",
       " '__delitem__',\n",
       " '__dir__',\n",
       " '__doc__',\n",
       " '__eq__',\n",
       " '__format__',\n",
       " '__ge__',\n",
       " '__getattribute__',\n",
       " '__getitem__',\n",
       " '__getstate__',\n",
       " '__gt__',\n",
       " '__hash__',\n",
       " '__iadd__',\n",
       " '__imul__',\n",
       " '__init__',\n",
       " '__init_subclass__',\n",
       " '__iter__',\n",
       " '__le__',\n",
       " '__len__',\n",
       " '__lt__',\n",
       " '__mul__',\n",
       " '__ne__',\n",
       " '__new__',\n",
       " '__reduce__',\n",
       " '__reduce_ex__',\n",
       " '__repr__',\n",
       " '__reversed__',\n",
       " '__rmul__',\n",
       " '__setattr__',\n",
       " '__setitem__',\n",
       " '__sizeof__',\n",
       " '__str__',\n",
       " '__subclasshook__',\n",
       " 'append',\n",
       " 'clear',\n",
       " 'copy',\n",
       " 'count',\n",
       " 'extend',\n",
       " 'index',\n",
       " 'insert',\n",
       " 'pop',\n",
       " 'remove',\n",
       " 'reverse',\n",
       " 'sort']"
      ]
     },
     "execution_count": 18,
     "metadata": {},
     "output_type": "execute_result"
    }
   ],
   "source": [
    "dir(list)"
   ]
  },
  {
   "cell_type": "code",
   "execution_count": 19,
   "id": "84d47b99",
   "metadata": {},
   "outputs": [
    {
     "data": {
      "text/plain": [
       "48"
      ]
     },
     "execution_count": 19,
     "metadata": {},
     "output_type": "execute_result"
    }
   ],
   "source": [
    "z = ['__add__',\n",
    " '__class__',\n",
    " '__class_getitem__',\n",
    " '__contains__',\n",
    " '__delattr__',\n",
    " '__delitem__',\n",
    " '__dir__',\n",
    " '__doc__',\n",
    " '__eq__',\n",
    " '__format__',\n",
    " '__ge__',\n",
    " '__getattribute__',\n",
    " '__getitem__',\n",
    " '__getstate__',\n",
    " '__gt__',\n",
    " '__hash__',\n",
    " '__iadd__',\n",
    " '__imul__',\n",
    " '__init__',\n",
    " '__init_subclass__',\n",
    " '__iter__',\n",
    " '__le__',\n",
    " '__len__',\n",
    " '__lt__',\n",
    " '__mul__',\n",
    " '__ne__',\n",
    " '__new__',\n",
    " '__reduce__',\n",
    " '__reduce_ex__',\n",
    " '__repr__',\n",
    " '__reversed__',\n",
    " '__rmul__',\n",
    " '__setattr__',\n",
    " '__setitem__',\n",
    " '__sizeof__',\n",
    " '__str__',\n",
    " '__subclasshook__',\n",
    " 'append',\n",
    " 'clear',\n",
    " 'copy',\n",
    " 'count',\n",
    " 'extend',\n",
    " 'index',\n",
    " 'insert',\n",
    " 'pop',\n",
    " 'remove',\n",
    " 'reverse',\n",
    " 'sort']\n",
    "len(z)"
   ]
  },
  {
   "cell_type": "markdown",
   "id": "3a4ded47",
   "metadata": {},
   "source": [
    "1)append : add exactly one element\n",
    "\n",
    "2)clear : clears the list's contents and returns a empty list\n",
    "\n",
    "3)copy : creates a shallow copy of the list object\n",
    "\n",
    "4)count : same as string , it counts the number of times an element has occured in the list\n",
    "\n",
    "5)extend : adds or extend the list by two or multiple elements at a time\n",
    "\n",
    "6)insert : inserts a new element at said index postion\n",
    "\n",
    "7)pop : pops out the last elementin list .If an index is given as input,it pops out the element at said index\n",
    "\n",
    "8)remove : removes the said element\n",
    "\n",
    "9)reverse : reverse the string\n",
    "\n",
    "10)sort : sorts the string in ascending or descending order"
   ]
  },
  {
   "cell_type": "markdown",
   "id": "d8b8e5c1",
   "metadata": {},
   "source": [
    "### 1)append( ) :\n",
    "The append() method appends an element to the end of the list."
   ]
  },
  {
   "cell_type": "code",
   "execution_count": 20,
   "id": "aa735c86",
   "metadata": {},
   "outputs": [
    {
     "name": "stdout",
     "output_type": "stream",
     "text": [
      "Help on method_descriptor:\n",
      "\n",
      "append(self, object, /)\n",
      "    Append object to the end of the list.\n",
      "\n"
     ]
    }
   ],
   "source": [
    "help(list.append)"
   ]
  },
  {
   "cell_type": "code",
   "execution_count": 25,
   "id": "785d128b",
   "metadata": {},
   "outputs": [
    {
     "data": {
      "text/plain": [
       "['kane williamson', 'ms dhoni', 'virat kohli', 'shikhar dhawan']"
      ]
     },
     "execution_count": 25,
     "metadata": {},
     "output_type": "execute_result"
    }
   ],
   "source": [
    "cricketers = [\"kane williamson\", \"ms dhoni\",\"virat kohli\",\"shikhar dhawan\"]\n",
    "cricketers"
   ]
  },
  {
   "cell_type": "code",
   "execution_count": 34,
   "id": "91da6bfc",
   "metadata": {},
   "outputs": [
    {
     "data": {
      "text/plain": [
       "['kane williamson',\n",
       " 'ms dhoni',\n",
       " 'virat kohli',\n",
       " 'shikhar dhawan',\n",
       " 'david warner']"
      ]
     },
     "execution_count": 34,
     "metadata": {},
     "output_type": "execute_result"
    }
   ],
   "source": [
    "cricketers.append(\"david warner\")\n",
    "cricketers"
   ]
  },
  {
   "cell_type": "markdown",
   "id": "aa219343",
   "metadata": {},
   "source": [
    "### 2)clear( ) :\n",
    "The clear() method removes all the elements from a list."
   ]
  },
  {
   "cell_type": "code",
   "execution_count": 24,
   "id": "30955962",
   "metadata": {},
   "outputs": [
    {
     "name": "stdout",
     "output_type": "stream",
     "text": [
      "Help on method_descriptor:\n",
      "\n",
      "clear(self, /)\n",
      "    Remove all items from list.\n",
      "\n"
     ]
    }
   ],
   "source": [
    "help(list.clear)"
   ]
  },
  {
   "cell_type": "code",
   "execution_count": 35,
   "id": "e9d8bdb2",
   "metadata": {},
   "outputs": [
    {
     "data": {
      "text/plain": [
       "['a', 'b', 'c']"
      ]
     },
     "execution_count": 35,
     "metadata": {},
     "output_type": "execute_result"
    }
   ],
   "source": [
    "alp = ['a','b','c']\n",
    "alp"
   ]
  },
  {
   "cell_type": "code",
   "execution_count": 37,
   "id": "270530f1",
   "metadata": {},
   "outputs": [
    {
     "data": {
      "text/plain": [
       "[]"
      ]
     },
     "execution_count": 37,
     "metadata": {},
     "output_type": "execute_result"
    }
   ],
   "source": [
    "alp.clear()\n",
    "alp"
   ]
  },
  {
   "cell_type": "markdown",
   "id": "37f3da70",
   "metadata": {},
   "source": [
    "### 3)copy( ) :\n",
    "The copy() method returns a copy of the specified list."
   ]
  },
  {
   "cell_type": "code",
   "execution_count": 38,
   "id": "e1b5bb84",
   "metadata": {},
   "outputs": [
    {
     "name": "stdout",
     "output_type": "stream",
     "text": [
      "Help on method_descriptor:\n",
      "\n",
      "copy(self, /)\n",
      "    Return a shallow copy of the list.\n",
      "\n"
     ]
    }
   ],
   "source": [
    "help(list.copy)"
   ]
  },
  {
   "cell_type": "code",
   "execution_count": 39,
   "id": "e2b3d035",
   "metadata": {},
   "outputs": [
    {
     "name": "stdout",
     "output_type": "stream",
     "text": [
      "['one', 'two', 'three']\n",
      "['one', 'two', 'three']\n"
     ]
    }
   ],
   "source": [
    "a=['one','two','three']\n",
    "b=a\n",
    "print(a,b,sep='\\n')"
   ]
  },
  {
   "cell_type": "code",
   "execution_count": 40,
   "id": "8e526897",
   "metadata": {},
   "outputs": [
    {
     "name": "stdout",
     "output_type": "stream",
     "text": [
      "['one', 'two', 'three', 4, 5, 6]\n",
      "['one', 'two', 'three', 4, 5, 6]\n"
     ]
    }
   ],
   "source": [
    "a.extend([4,5,6])\n",
    "print(a, b, sep = '\\n')"
   ]
  },
  {
   "cell_type": "code",
   "execution_count": 41,
   "id": "fb63d44c",
   "metadata": {},
   "outputs": [
    {
     "name": "stdout",
     "output_type": "stream",
     "text": [
      "['one', 'two', 'three', 4, 5, 6] 2292475789120\n",
      "['one', 'two', 'three', 4, 5, 6] 2292475789120\n"
     ]
    }
   ],
   "source": [
    "print(a, id(a))\n",
    "print(b, id(b))"
   ]
  },
  {
   "cell_type": "code",
   "execution_count": 42,
   "id": "81f18bc9",
   "metadata": {},
   "outputs": [
    {
     "name": "stdout",
     "output_type": "stream",
     "text": [
      "[6, 5, 4, 'three', 'two', 'one'] 2292475789120\n",
      "['one', 'two', 'three', 4, 5, 6] 2292475574592\n"
     ]
    }
   ],
   "source": [
    "# copy()\n",
    "\n",
    "c = a.copy()\n",
    "\n",
    "a.reverse()\n",
    "print(a, id(a))\n",
    "print(c, id(c))"
   ]
  },
  {
   "cell_type": "code",
   "execution_count": 43,
   "id": "f25a5b5c",
   "metadata": {},
   "outputs": [
    {
     "name": "stdout",
     "output_type": "stream",
     "text": [
      "[111, 222, 333, ['one', 'two', 'three']] 2292462134976\n",
      "[111, 222, 333, ['one', 'two', 'three']] 2292475507712\n"
     ]
    }
   ],
   "source": [
    "d = [111, 222, 333, ['one', 'two', 'three']]\n",
    "e = d.copy()\n",
    "print(d, id(d))\n",
    "print(e, id(e))"
   ]
  },
  {
   "cell_type": "code",
   "execution_count": 44,
   "id": "87486fd3",
   "metadata": {},
   "outputs": [
    {
     "data": {
      "text/plain": [
       "'two'"
      ]
     },
     "execution_count": 44,
     "metadata": {},
     "output_type": "execute_result"
    }
   ],
   "source": [
    "d[3][1]"
   ]
  },
  {
   "cell_type": "code",
   "execution_count": 45,
   "id": "a4046f1c",
   "metadata": {},
   "outputs": [
    {
     "name": "stdout",
     "output_type": "stream",
     "text": [
      "['zzz', 222, 333, ['one', 2, 'three', 'z']]\n"
     ]
    }
   ],
   "source": [
    "d[0] = 'zzz'\n",
    "d[3][1] = 2\n",
    "d[3].append('z')\n",
    "print(d)"
   ]
  },
  {
   "cell_type": "code",
   "execution_count": 46,
   "id": "8c832e8f",
   "metadata": {},
   "outputs": [
    {
     "name": "stdout",
     "output_type": "stream",
     "text": [
      "[111, 222, 333, ['one', 2, 'three', 'z']]\n"
     ]
    }
   ],
   "source": [
    "print(e)"
   ]
  },
  {
   "cell_type": "code",
   "execution_count": 47,
   "id": "81ea3da1",
   "metadata": {},
   "outputs": [
    {
     "data": {
      "text/plain": [
       "False"
      ]
     },
     "execution_count": 47,
     "metadata": {},
     "output_type": "execute_result"
    }
   ],
   "source": [
    "d is e"
   ]
  },
  {
   "cell_type": "code",
   "execution_count": 48,
   "id": "3469d842",
   "metadata": {},
   "outputs": [
    {
     "data": {
      "text/plain": [
       "True"
      ]
     },
     "execution_count": 48,
     "metadata": {},
     "output_type": "execute_result"
    }
   ],
   "source": [
    "d[3] is e[3]"
   ]
  },
  {
   "cell_type": "code",
   "execution_count": 49,
   "id": "004dfa24",
   "metadata": {},
   "outputs": [
    {
     "name": "stdout",
     "output_type": "stream",
     "text": [
      "['one', 2, 'three', 'z'] 2292475572608\n",
      "['one', 2, 'three', 'z'] 2292475572608\n"
     ]
    }
   ],
   "source": [
    "print(d[3], id(d[3]))\n",
    "print(e[3], id(e[3]))"
   ]
  },
  {
   "cell_type": "markdown",
   "id": "259acf48",
   "metadata": {},
   "source": [
    "### deepcopy( ) :"
   ]
  },
  {
   "cell_type": "code",
   "execution_count": 50,
   "id": "c21256d9",
   "metadata": {},
   "outputs": [],
   "source": [
    "import copy\n",
    "from copy import deepcopy"
   ]
  },
  {
   "cell_type": "code",
   "execution_count": 51,
   "id": "ce184c30",
   "metadata": {},
   "outputs": [
    {
     "name": "stdout",
     "output_type": "stream",
     "text": [
      "[111, 222, 333, ['one', 2, 'three', 'z']] 2292475573376\n",
      "[111, 222, 333, ['one', 2, 'three', 'z']] 2292475507712\n"
     ]
    }
   ],
   "source": [
    "f = deepcopy(e)\n",
    "print(f, id(f))\n",
    "print(e, id(e))"
   ]
  },
  {
   "cell_type": "code",
   "execution_count": 52,
   "id": "b89641cf",
   "metadata": {},
   "outputs": [
    {
     "name": "stdout",
     "output_type": "stream",
     "text": [
      "['zzz', 222, 333, ['one', 2.2, 'three', 'z', 'z']]\n"
     ]
    }
   ],
   "source": [
    "e[0] = 'zzz'\n",
    "e[3][1] = 2.2\n",
    "e[3].append('z')\n",
    "print(e)"
   ]
  },
  {
   "cell_type": "code",
   "execution_count": 53,
   "id": "a4500d6b",
   "metadata": {},
   "outputs": [
    {
     "data": {
      "text/plain": [
       "[111, 222, 333, ['one', 2, 'three', 'z']]"
      ]
     },
     "execution_count": 53,
     "metadata": {},
     "output_type": "execute_result"
    }
   ],
   "source": [
    "f"
   ]
  },
  {
   "cell_type": "code",
   "execution_count": 54,
   "id": "9b136b84",
   "metadata": {},
   "outputs": [
    {
     "data": {
      "text/plain": [
       "True"
      ]
     },
     "execution_count": 54,
     "metadata": {},
     "output_type": "execute_result"
    }
   ],
   "source": [
    "f[3] is not e[3]"
   ]
  },
  {
   "cell_type": "code",
   "execution_count": 55,
   "id": "c7f6e69a",
   "metadata": {},
   "outputs": [
    {
     "name": "stdout",
     "output_type": "stream",
     "text": [
      "['one', 2, 'three', 'z'] 2292476108544\n",
      "['one', 2.2, 'three', 'z', 'z'] 2292475572608\n"
     ]
    }
   ],
   "source": [
    "print(f[3], id(f[3]))\n",
    "print(e[3], id(e[3]))"
   ]
  },
  {
   "cell_type": "code",
   "execution_count": 56,
   "id": "5f646391",
   "metadata": {},
   "outputs": [
    {
     "data": {
      "text/plain": [
       "['zzz', 222, 333, ['one', 2.2, 'three', 'z', 'z']]"
      ]
     },
     "execution_count": 56,
     "metadata": {},
     "output_type": "execute_result"
    }
   ],
   "source": [
    "e"
   ]
  },
  {
   "cell_type": "markdown",
   "id": "fbcc4ac0",
   "metadata": {},
   "source": [
    "### shollowcopy() vs deepcopy():\n",
    "A shallow copy of an object creates a new object and copies the references of the original object’s attributes to the new object.It returns the same list with different memory location but the inner nested values memory location remains constant.\n",
    "\n",
    "A deep copy of an object creates a new object and recursively copies the values of the original object’s attributes to the new object.it returns the same list with different memory location even the inner nested values also have differnt memory location."
   ]
  },
  {
   "cell_type": "markdown",
   "id": "91c29e77",
   "metadata": {},
   "source": [
    "### 4)count( ) :\n",
    "The count() method returns the number of elements with the specified value."
   ]
  },
  {
   "cell_type": "code",
   "execution_count": 57,
   "id": "b7a090dd",
   "metadata": {},
   "outputs": [
    {
     "name": "stdout",
     "output_type": "stream",
     "text": [
      "Help on method_descriptor:\n",
      "\n",
      "count(self, value, /)\n",
      "    Return number of occurrences of value.\n",
      "\n"
     ]
    }
   ],
   "source": [
    "help(list.count)"
   ]
  },
  {
   "cell_type": "code",
   "execution_count": 59,
   "id": "8448b3b5",
   "metadata": {},
   "outputs": [
    {
     "data": {
      "text/plain": [
       "[1, 2, 3, 1, 4, 5, 2, 3, 6, 7, 2, 8, 2]"
      ]
     },
     "execution_count": 59,
     "metadata": {},
     "output_type": "execute_result"
    }
   ],
   "source": [
    "numbers = [1,2,3,1,4,5,2,3,6,7,2,8,2]\n",
    "numbers"
   ]
  },
  {
   "cell_type": "code",
   "execution_count": 60,
   "id": "262534c8",
   "metadata": {},
   "outputs": [
    {
     "data": {
      "text/plain": [
       "4"
      ]
     },
     "execution_count": 60,
     "metadata": {},
     "output_type": "execute_result"
    }
   ],
   "source": [
    "numbers.count(2)"
   ]
  },
  {
   "cell_type": "code",
   "execution_count": 62,
   "id": "169a7d6a",
   "metadata": {},
   "outputs": [
    {
     "data": {
      "text/plain": [
       "2"
      ]
     },
     "execution_count": 62,
     "metadata": {},
     "output_type": "execute_result"
    }
   ],
   "source": [
    "numbers.count(1)"
   ]
  },
  {
   "cell_type": "code",
   "execution_count": 63,
   "id": "c910020b",
   "metadata": {},
   "outputs": [
    {
     "data": {
      "text/plain": [
       "7"
      ]
     },
     "execution_count": 63,
     "metadata": {},
     "output_type": "execute_result"
    }
   ],
   "source": [
    "numbers.index(3,3)"
   ]
  },
  {
   "cell_type": "markdown",
   "id": "0e989f0f",
   "metadata": {},
   "source": [
    "### 5)extend( ) :\n",
    "The extend() method adds the specified list elements (or any iterable) to the end of the current list.\n",
    "\n",
    "Add or extend the list by two or multiple elements at a time."
   ]
  },
  {
   "cell_type": "code",
   "execution_count": 64,
   "id": "a9488f62",
   "metadata": {},
   "outputs": [
    {
     "name": "stdout",
     "output_type": "stream",
     "text": [
      "Help on method_descriptor:\n",
      "\n",
      "extend(self, iterable, /)\n",
      "    Extend list by appending elements from the iterable.\n",
      "\n"
     ]
    }
   ],
   "source": [
    "help(list.extend)"
   ]
  },
  {
   "cell_type": "code",
   "execution_count": 65,
   "id": "6c837b29",
   "metadata": {},
   "outputs": [
    {
     "data": {
      "text/plain": [
       "['kane williamson',\n",
       " 'ms dhoni',\n",
       " 'virat kohli',\n",
       " 'shikhar dhawan',\n",
       " 'david warner']"
      ]
     },
     "execution_count": 65,
     "metadata": {},
     "output_type": "execute_result"
    }
   ],
   "source": [
    "cricketers"
   ]
  },
  {
   "cell_type": "code",
   "execution_count": 86,
   "id": "bd6969b2",
   "metadata": {},
   "outputs": [],
   "source": [
    "cricketers.extend([\"sachin tendulkar\"])"
   ]
  },
  {
   "cell_type": "code",
   "execution_count": 87,
   "id": "c699d994",
   "metadata": {},
   "outputs": [
    {
     "data": {
      "text/plain": [
       "['kane williamson',\n",
       " 'ms dhoni',\n",
       " 'virat kohli',\n",
       " 'shikhar dhawan',\n",
       " 'david warner',\n",
       " 'sachin tendulkar']"
      ]
     },
     "execution_count": 87,
     "metadata": {},
     "output_type": "execute_result"
    }
   ],
   "source": [
    "cricketers"
   ]
  },
  {
   "cell_type": "markdown",
   "id": "2ea0651a",
   "metadata": {},
   "source": [
    "### 6)insert( ) :\n",
    "The insert() method inserts the specified value at the specified position.\n",
    "\n",
    "insert a new element at  index position."
   ]
  },
  {
   "cell_type": "code",
   "execution_count": 88,
   "id": "8eed2a6f",
   "metadata": {},
   "outputs": [
    {
     "name": "stdout",
     "output_type": "stream",
     "text": [
      "Help on method_descriptor:\n",
      "\n",
      "insert(self, index, object, /)\n",
      "    Insert object before index.\n",
      "\n"
     ]
    }
   ],
   "source": [
    "help(list.insert)"
   ]
  },
  {
   "cell_type": "code",
   "execution_count": 89,
   "id": "7bb15a52",
   "metadata": {},
   "outputs": [
    {
     "data": {
      "text/plain": [
       "['root',\n",
       " 'kane williamson',\n",
       " 'ms dhoni',\n",
       " 'virat kohli',\n",
       " 'shikhar dhawan',\n",
       " 'david warner',\n",
       " 'sachin tendulkar']"
      ]
     },
     "execution_count": 89,
     "metadata": {},
     "output_type": "execute_result"
    }
   ],
   "source": [
    "cricketers.insert(0,\"root\")\n",
    "cricketers"
   ]
  },
  {
   "cell_type": "markdown",
   "id": "98490bd9",
   "metadata": {},
   "source": [
    "### 7)pop( ) :\n",
    "The pop() method removes the element at the specified position."
   ]
  },
  {
   "cell_type": "code",
   "execution_count": 90,
   "id": "bf0004fc",
   "metadata": {},
   "outputs": [
    {
     "name": "stdout",
     "output_type": "stream",
     "text": [
      "Help on method_descriptor:\n",
      "\n",
      "pop(self, index=-1, /)\n",
      "    Remove and return item at index (default last).\n",
      "    \n",
      "    Raises IndexError if list is empty or index is out of range.\n",
      "\n"
     ]
    }
   ],
   "source": [
    "help(list.pop)"
   ]
  },
  {
   "cell_type": "code",
   "execution_count": 91,
   "id": "dc38d214",
   "metadata": {},
   "outputs": [
    {
     "data": {
      "text/plain": [
       "['root',\n",
       " 'kane williamson',\n",
       " 'ms dhoni',\n",
       " 'shikhar dhawan',\n",
       " 'david warner',\n",
       " 'sachin tendulkar']"
      ]
     },
     "execution_count": 91,
     "metadata": {},
     "output_type": "execute_result"
    }
   ],
   "source": [
    "cricketers.pop(3)\n",
    "cricketers"
   ]
  },
  {
   "cell_type": "markdown",
   "id": "6357f3c3",
   "metadata": {},
   "source": [
    "### 8)remove( ) :\n",
    "The remove() method removes the first occurrence of the element with the specified value."
   ]
  },
  {
   "cell_type": "code",
   "execution_count": 92,
   "id": "13f6a73d",
   "metadata": {},
   "outputs": [
    {
     "name": "stdout",
     "output_type": "stream",
     "text": [
      "Help on method_descriptor:\n",
      "\n",
      "remove(self, value, /)\n",
      "    Remove first occurrence of value.\n",
      "    \n",
      "    Raises ValueError if the value is not present.\n",
      "\n"
     ]
    }
   ],
   "source": [
    "help(list.remove)"
   ]
  },
  {
   "cell_type": "code",
   "execution_count": 98,
   "id": "c1fa4c54",
   "metadata": {},
   "outputs": [
    {
     "data": {
      "text/plain": [
       "['root',\n",
       " 'kane williamson',\n",
       " 'ms dhoni',\n",
       " 'shikhar dhawan',\n",
       " 'david warner',\n",
       " 'sachin tendulkar']"
      ]
     },
     "execution_count": 98,
     "metadata": {},
     "output_type": "execute_result"
    }
   ],
   "source": [
    "cricketers"
   ]
  },
  {
   "cell_type": "code",
   "execution_count": 99,
   "id": "c528b398",
   "metadata": {},
   "outputs": [],
   "source": [
    "cricketers.remove(\"root\")"
   ]
  },
  {
   "cell_type": "code",
   "execution_count": 100,
   "id": "d107fac3",
   "metadata": {},
   "outputs": [
    {
     "data": {
      "text/plain": [
       "['kane williamson',\n",
       " 'ms dhoni',\n",
       " 'shikhar dhawan',\n",
       " 'david warner',\n",
       " 'sachin tendulkar']"
      ]
     },
     "execution_count": 100,
     "metadata": {},
     "output_type": "execute_result"
    }
   ],
   "source": [
    "cricketers"
   ]
  },
  {
   "cell_type": "markdown",
   "id": "8809652c",
   "metadata": {},
   "source": [
    "### 9)reverse( ) :\n",
    "The reverse() method reverses the sorting order of the elements."
   ]
  },
  {
   "cell_type": "code",
   "execution_count": 101,
   "id": "287713e0",
   "metadata": {},
   "outputs": [
    {
     "name": "stdout",
     "output_type": "stream",
     "text": [
      "Help on method_descriptor:\n",
      "\n",
      "reverse(self, /)\n",
      "    Reverse *IN PLACE*.\n",
      "\n"
     ]
    }
   ],
   "source": [
    "help(list.reverse)"
   ]
  },
  {
   "cell_type": "code",
   "execution_count": 102,
   "id": "35be33c4",
   "metadata": {},
   "outputs": [
    {
     "data": {
      "text/plain": [
       "['kane williamson',\n",
       " 'ms dhoni',\n",
       " 'shikhar dhawan',\n",
       " 'david warner',\n",
       " 'sachin tendulkar']"
      ]
     },
     "execution_count": 102,
     "metadata": {},
     "output_type": "execute_result"
    }
   ],
   "source": [
    "cricketers"
   ]
  },
  {
   "cell_type": "code",
   "execution_count": 103,
   "id": "a2b2c362",
   "metadata": {},
   "outputs": [
    {
     "data": {
      "text/plain": [
       "['sachin tendulkar',\n",
       " 'david warner',\n",
       " 'shikhar dhawan',\n",
       " 'ms dhoni',\n",
       " 'kane williamson']"
      ]
     },
     "execution_count": 103,
     "metadata": {},
     "output_type": "execute_result"
    }
   ],
   "source": [
    "cricketers.reverse()\n",
    "cricketers"
   ]
  },
  {
   "cell_type": "markdown",
   "id": "e8b185f7",
   "metadata": {},
   "source": [
    "### 10)sort( ) :\n",
    "The sort() can be used to sort the list in both ascending and descending order\n",
    "\n",
    "The sort() method sorts the list ascending by default."
   ]
  },
  {
   "cell_type": "code",
   "execution_count": 104,
   "id": "27cc9b6e",
   "metadata": {},
   "outputs": [
    {
     "name": "stdout",
     "output_type": "stream",
     "text": [
      "Help on method_descriptor:\n",
      "\n",
      "sort(self, /, *, key=None, reverse=False)\n",
      "    Sort the list in ascending order and return None.\n",
      "    \n",
      "    The sort is in-place (i.e. the list itself is modified) and stable (i.e. the\n",
      "    order of two equal elements is maintained).\n",
      "    \n",
      "    If a key function is given, apply it once to each list item and sort them,\n",
      "    ascending or descending, according to their function values.\n",
      "    \n",
      "    The reverse flag can be set to sort in descending order.\n",
      "\n"
     ]
    }
   ],
   "source": [
    "help(list.sort)"
   ]
  },
  {
   "cell_type": "code",
   "execution_count": 105,
   "id": "aecd6e56",
   "metadata": {},
   "outputs": [
    {
     "data": {
      "text/plain": [
       "['sachin tendulkar',\n",
       " 'david warner',\n",
       " 'shikhar dhawan',\n",
       " 'ms dhoni',\n",
       " 'kane williamson']"
      ]
     },
     "execution_count": 105,
     "metadata": {},
     "output_type": "execute_result"
    }
   ],
   "source": [
    "cricketers"
   ]
  },
  {
   "cell_type": "code",
   "execution_count": 106,
   "id": "904092b8",
   "metadata": {},
   "outputs": [],
   "source": [
    "cricketers.sort()"
   ]
  },
  {
   "cell_type": "code",
   "execution_count": 107,
   "id": "f82ed1cd",
   "metadata": {},
   "outputs": [
    {
     "data": {
      "text/plain": [
       "['david warner',\n",
       " 'kane williamson',\n",
       " 'ms dhoni',\n",
       " 'sachin tendulkar',\n",
       " 'shikhar dhawan']"
      ]
     },
     "execution_count": 107,
     "metadata": {},
     "output_type": "execute_result"
    }
   ],
   "source": [
    "cricketers"
   ]
  },
  {
   "cell_type": "code",
   "execution_count": 108,
   "id": "c70b5975",
   "metadata": {},
   "outputs": [
    {
     "name": "stdout",
     "output_type": "stream",
     "text": [
      "[-74, -50, -10.1, -0.99, -0.86, 0.56, 1.89, 4, 10, 23]\n",
      "['Deepthi', 'Vengal', 'shravani', 'venu']\n"
     ]
    }
   ],
   "source": [
    "a = [-50,-74,4,10,23] # only integers\n",
    "b = [0.56, 1.89, -0.86, -0.99, -10.10] # only flaot values\n",
    "c = a + b # int & flaots\n",
    "d = [1+1j, 2-2j, 10+10j] # complex\n",
    "e = ['venu', 'Vengal', 'Deepthi', 'shravani'] # strings\n",
    "f = c + d\n",
    "g = f + e\n",
    "c.sort()\n",
    "print(c)\n",
    "e.sort()\n",
    "print(e)"
   ]
  },
  {
   "cell_type": "code",
   "execution_count": 109,
   "id": "d132e7b7",
   "metadata": {},
   "outputs": [],
   "source": [
    "a.sort()"
   ]
  },
  {
   "cell_type": "code",
   "execution_count": 110,
   "id": "54c8f163",
   "metadata": {},
   "outputs": [
    {
     "data": {
      "text/plain": [
       "[-74, -50, 4, 10, 23]"
      ]
     },
     "execution_count": 110,
     "metadata": {},
     "output_type": "execute_result"
    }
   ],
   "source": [
    "a"
   ]
  },
  {
   "cell_type": "code",
   "execution_count": 111,
   "id": "c7a7eef0",
   "metadata": {},
   "outputs": [
    {
     "data": {
      "text/plain": [
       "[-10.1, -0.99, -0.86, 0.56, 1.89]"
      ]
     },
     "execution_count": 111,
     "metadata": {},
     "output_type": "execute_result"
    }
   ],
   "source": [
    "b.sort()\n",
    "b"
   ]
  },
  {
   "cell_type": "code",
   "execution_count": 112,
   "id": "5db068f7",
   "metadata": {},
   "outputs": [
    {
     "data": {
      "text/plain": [
       "[-74, -50, -10.1, -0.99, -0.86, 0.56, 1.89, 4, 10, 23]"
      ]
     },
     "execution_count": 112,
     "metadata": {},
     "output_type": "execute_result"
    }
   ],
   "source": [
    "c.sort()\n",
    "c"
   ]
  },
  {
   "cell_type": "code",
   "execution_count": 113,
   "id": "0f7ced28",
   "metadata": {},
   "outputs": [
    {
     "ename": "TypeError",
     "evalue": "'<' not supported between instances of 'complex' and 'complex'",
     "output_type": "error",
     "traceback": [
      "\u001b[1;31m---------------------------------------------------------------------------\u001b[0m",
      "\u001b[1;31mTypeError\u001b[0m                                 Traceback (most recent call last)",
      "Cell \u001b[1;32mIn[113], line 1\u001b[0m\n\u001b[1;32m----> 1\u001b[0m d\u001b[38;5;241m.\u001b[39msort()\n\u001b[0;32m      2\u001b[0m d\n",
      "\u001b[1;31mTypeError\u001b[0m: '<' not supported between instances of 'complex' and 'complex'"
     ]
    }
   ],
   "source": [
    "d.sort()\n",
    "d #we cannot sort the complex values it returns en error."
   ]
  },
  {
   "cell_type": "code",
   "execution_count": 114,
   "id": "1ebd7ec0",
   "metadata": {},
   "outputs": [
    {
     "data": {
      "text/plain": [
       "['Deepthi', 'Vengal', 'shravani', 'venu']"
      ]
     },
     "execution_count": 114,
     "metadata": {},
     "output_type": "execute_result"
    }
   ],
   "source": [
    "e.sort()\n",
    "e"
   ]
  },
  {
   "cell_type": "code",
   "execution_count": 115,
   "id": "51242c62",
   "metadata": {},
   "outputs": [
    {
     "ename": "TypeError",
     "evalue": "'<' not supported between instances of 'complex' and 'float'",
     "output_type": "error",
     "traceback": [
      "\u001b[1;31m---------------------------------------------------------------------------\u001b[0m",
      "\u001b[1;31mTypeError\u001b[0m                                 Traceback (most recent call last)",
      "Cell \u001b[1;32mIn[115], line 1\u001b[0m\n\u001b[1;32m----> 1\u001b[0m f\u001b[38;5;241m.\u001b[39msort()\n\u001b[0;32m      2\u001b[0m f\n",
      "\u001b[1;31mTypeError\u001b[0m: '<' not supported between instances of 'complex' and 'float'"
     ]
    }
   ],
   "source": [
    "f.sort()\n",
    "f"
   ]
  },
  {
   "cell_type": "code",
   "execution_count": 116,
   "id": "d83309c7",
   "metadata": {},
   "outputs": [
    {
     "ename": "TypeError",
     "evalue": "'<' not supported between instances of 'complex' and 'float'",
     "output_type": "error",
     "traceback": [
      "\u001b[1;31m---------------------------------------------------------------------------\u001b[0m",
      "\u001b[1;31mTypeError\u001b[0m                                 Traceback (most recent call last)",
      "Cell \u001b[1;32mIn[116], line 1\u001b[0m\n\u001b[1;32m----> 1\u001b[0m g\u001b[38;5;241m.\u001b[39msort()\n\u001b[0;32m      2\u001b[0m g\n",
      "\u001b[1;31mTypeError\u001b[0m: '<' not supported between instances of 'complex' and 'float'"
     ]
    }
   ],
   "source": [
    "g.sort() \n",
    "g #we cannot sort a complex and float value it gives en error"
   ]
  }
 ],
 "metadata": {
  "kernelspec": {
   "display_name": "Python 3 (ipykernel)",
   "language": "python",
   "name": "python3"
  },
  "language_info": {
   "codemirror_mode": {
    "name": "ipython",
    "version": 3
   },
   "file_extension": ".py",
   "mimetype": "text/x-python",
   "name": "python",
   "nbconvert_exporter": "python",
   "pygments_lexer": "ipython3",
   "version": "3.11.3"
  }
 },
 "nbformat": 4,
 "nbformat_minor": 5
}
