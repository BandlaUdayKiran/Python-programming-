{
 "cells": [
  {
   "cell_type": "markdown",
   "id": "59b8b41d",
   "metadata": {},
   "source": [
    "# 30)strip( ) :\n",
    "The strip() method removes any leading, and trailing whitespaces.\n",
    "\n",
    "Leading means at the beginning of the string, trailing means at the end.\n",
    "\n",
    "You can specify which character(s) to remove, if not, any whitespaces will be removed.\n",
    "\n"
   ]
  },
  {
   "cell_type": "code",
   "execution_count": 1,
   "id": "b609ec67",
   "metadata": {},
   "outputs": [
    {
     "name": "stdout",
     "output_type": "stream",
     "text": [
      "Help on method_descriptor:\n",
      "\n",
      "strip(self, chars=None, /)\n",
      "    Return a copy of the string with leading and trailing whitespace removed.\n",
      "    \n",
      "    If chars is given and not None, remove characters in chars instead.\n",
      "\n"
     ]
    }
   ],
   "source": [
    "help(str.strip)"
   ]
  },
  {
   "cell_type": "markdown",
   "id": "fa2090fe",
   "metadata": {},
   "source": [
    "Remove spaces at the beginning and at the end of the string:"
   ]
  },
  {
   "cell_type": "code",
   "execution_count": 4,
   "id": "05e60c74",
   "metadata": {},
   "outputs": [
    {
     "data": {
      "text/plain": [
       "'   Good Morning   '"
      ]
     },
     "execution_count": 4,
     "metadata": {},
     "output_type": "execute_result"
    }
   ],
   "source": [
    "wish = \"   Good Morning   \"\n",
    "wish"
   ]
  },
  {
   "cell_type": "code",
   "execution_count": 5,
   "id": "955c32eb",
   "metadata": {},
   "outputs": [
    {
     "data": {
      "text/plain": [
       "'Good Morning'"
      ]
     },
     "execution_count": 5,
     "metadata": {},
     "output_type": "execute_result"
    }
   ],
   "source": [
    "wish.strip()"
   ]
  },
  {
   "cell_type": "code",
   "execution_count": 7,
   "id": "fa82d2d6",
   "metadata": {},
   "outputs": [
    {
     "data": {
      "text/plain": [
       "18"
      ]
     },
     "execution_count": 7,
     "metadata": {},
     "output_type": "execute_result"
    }
   ],
   "source": [
    "len(wish)"
   ]
  },
  {
   "cell_type": "markdown",
   "id": "d8b705e3",
   "metadata": {},
   "source": [
    "# 31)lstrip( ) :\n",
    "The lstrip() method removes any leading characters (space is the default leading character to remove)"
   ]
  },
  {
   "cell_type": "code",
   "execution_count": 9,
   "id": "a1f62653",
   "metadata": {},
   "outputs": [
    {
     "name": "stdout",
     "output_type": "stream",
     "text": [
      "Help on method_descriptor:\n",
      "\n",
      "lstrip(self, chars=None, /)\n",
      "    Return a copy of the string with leading whitespace removed.\n",
      "    \n",
      "    If chars is given and not None, remove characters in chars instead.\n",
      "\n"
     ]
    }
   ],
   "source": [
    "help(str.lstrip)"
   ]
  },
  {
   "cell_type": "markdown",
   "id": "cfe06d2d",
   "metadata": {},
   "source": [
    "Remove spaces to the left of the string:"
   ]
  },
  {
   "cell_type": "code",
   "execution_count": 10,
   "id": "cfaa8d85",
   "metadata": {},
   "outputs": [
    {
     "data": {
      "text/plain": [
       "'   Good Morning   '"
      ]
     },
     "execution_count": 10,
     "metadata": {},
     "output_type": "execute_result"
    }
   ],
   "source": [
    "wish = \"   Good Morning   \"\n",
    "wish"
   ]
  },
  {
   "cell_type": "code",
   "execution_count": 31,
   "id": "de1e6a29",
   "metadata": {},
   "outputs": [
    {
     "data": {
      "text/plain": [
       "'Good Morning   '"
      ]
     },
     "execution_count": 31,
     "metadata": {},
     "output_type": "execute_result"
    }
   ],
   "source": [
    "wish.lstrip()"
   ]
  },
  {
   "cell_type": "code",
   "execution_count": 32,
   "id": "f50c7c69",
   "metadata": {},
   "outputs": [
    {
     "data": {
      "text/plain": [
       "'d morning'"
      ]
     },
     "execution_count": 32,
     "metadata": {},
     "output_type": "execute_result"
    }
   ],
   "source": [
    "wish = \"Good morning\"\n",
    "wish.lstrip(\"Goo\")"
   ]
  },
  {
   "cell_type": "markdown",
   "id": "cde7e0cf",
   "metadata": {},
   "source": [
    "# 32)rstrip( ) :\n",
    "The rstrip() method removes any trailing characters (characters at the end a string), space is the default trailing character to remove."
   ]
  },
  {
   "cell_type": "code",
   "execution_count": 1,
   "id": "3164c1a3",
   "metadata": {},
   "outputs": [
    {
     "name": "stdout",
     "output_type": "stream",
     "text": [
      "Help on method_descriptor:\n",
      "\n",
      "rstrip(self, chars=None, /)\n",
      "    Return a copy of the string with trailing whitespace removed.\n",
      "    \n",
      "    If chars is given and not None, remove characters in chars instead.\n",
      "\n"
     ]
    }
   ],
   "source": [
    "help(str.rstrip)"
   ]
  },
  {
   "cell_type": "markdown",
   "id": "54a0ea10",
   "metadata": {},
   "source": [
    "Remove any white spaces at the end of the string:"
   ]
  },
  {
   "cell_type": "code",
   "execution_count": 2,
   "id": "565fb702",
   "metadata": {},
   "outputs": [
    {
     "data": {
      "text/plain": [
       "'   Good Morning   '"
      ]
     },
     "execution_count": 2,
     "metadata": {},
     "output_type": "execute_result"
    }
   ],
   "source": [
    "wish = \"   Good Morning   \"\n",
    "wish"
   ]
  },
  {
   "cell_type": "code",
   "execution_count": 3,
   "id": "4a0835d4",
   "metadata": {},
   "outputs": [
    {
     "data": {
      "text/plain": [
       "'   Good Morning'"
      ]
     },
     "execution_count": 3,
     "metadata": {},
     "output_type": "execute_result"
    }
   ],
   "source": [
    "wish.rstrip()"
   ]
  },
  {
   "cell_type": "markdown",
   "id": "6a74d86c",
   "metadata": {},
   "source": [
    "# 33)removeprefix( ) :\n",
    "Removeprefix() function removes the prefix and returns the rest of the string. If the prefix string is not found, then it returns the original string."
   ]
  },
  {
   "cell_type": "code",
   "execution_count": 4,
   "id": "114957f3",
   "metadata": {},
   "outputs": [
    {
     "name": "stdout",
     "output_type": "stream",
     "text": [
      "Help on method_descriptor:\n",
      "\n",
      "removeprefix(self, prefix, /)\n",
      "    Return a str with the given prefix string removed if present.\n",
      "    \n",
      "    If the string starts with the prefix string, return string[len(prefix):].\n",
      "    Otherwise, return a copy of the original string.\n",
      "\n"
     ]
    }
   ],
   "source": [
    "help(str.removeprefix)"
   ]
  },
  {
   "cell_type": "code",
   "execution_count": 5,
   "id": "32a2f58f",
   "metadata": {},
   "outputs": [
    {
     "data": {
      "text/plain": [
       "'virat kohli'"
      ]
     },
     "execution_count": 5,
     "metadata": {},
     "output_type": "execute_result"
    }
   ],
   "source": [
    "player = \"virat kohli\"\n",
    "player"
   ]
  },
  {
   "cell_type": "code",
   "execution_count": 7,
   "id": "1dccb4c3",
   "metadata": {},
   "outputs": [
    {
     "data": {
      "text/plain": [
       "' kohli'"
      ]
     },
     "execution_count": 7,
     "metadata": {},
     "output_type": "execute_result"
    }
   ],
   "source": [
    "player.removeprefix(\"virat\")"
   ]
  },
  {
   "cell_type": "markdown",
   "id": "56e9fc98",
   "metadata": {},
   "source": [
    "# 34)removesuffix( ) :\n",
    "If the string ends with the suffix and the suffix is not empty, the str.removesuffix( ) function removes the suffix and returns the rest of the string. If the suffix string is not found then it returns the original string"
   ]
  },
  {
   "cell_type": "code",
   "execution_count": 8,
   "id": "7fc0fbe8",
   "metadata": {},
   "outputs": [
    {
     "name": "stdout",
     "output_type": "stream",
     "text": [
      "Help on method_descriptor:\n",
      "\n",
      "removesuffix(self, suffix, /)\n",
      "    Return a str with the given suffix string removed if present.\n",
      "    \n",
      "    If the string ends with the suffix string and that suffix is not empty,\n",
      "    return string[:-len(suffix)]. Otherwise, return a copy of the original\n",
      "    string.\n",
      "\n"
     ]
    }
   ],
   "source": [
    "help(str.removesuffix)"
   ]
  },
  {
   "cell_type": "code",
   "execution_count": 9,
   "id": "651f33f1",
   "metadata": {},
   "outputs": [
    {
     "data": {
      "text/plain": [
       "'virat kohli'"
      ]
     },
     "execution_count": 9,
     "metadata": {},
     "output_type": "execute_result"
    }
   ],
   "source": [
    "player = \"virat kohli\"\n",
    "player"
   ]
  },
  {
   "cell_type": "code",
   "execution_count": 10,
   "id": "944f6040",
   "metadata": {},
   "outputs": [
    {
     "data": {
      "text/plain": [
       "'virat '"
      ]
     },
     "execution_count": 10,
     "metadata": {},
     "output_type": "execute_result"
    }
   ],
   "source": [
    "player.removesuffix(\"kohli\")"
   ]
  },
  {
   "cell_type": "markdown",
   "id": "e0ee9a1b",
   "metadata": {},
   "source": [
    "# 35)center( ) :\n",
    "The center() method will center align the string, using a specified character (space is default) as the fill character."
   ]
  },
  {
   "cell_type": "code",
   "execution_count": 11,
   "id": "2049a45b",
   "metadata": {},
   "outputs": [
    {
     "name": "stdout",
     "output_type": "stream",
     "text": [
      "Help on method_descriptor:\n",
      "\n",
      "center(self, width, fillchar=' ', /)\n",
      "    Return a centered string of length width.\n",
      "    \n",
      "    Padding is done using the specified fill character (default is a space).\n",
      "\n"
     ]
    }
   ],
   "source": [
    "help(str.center)"
   ]
  },
  {
   "cell_type": "code",
   "execution_count": 12,
   "id": "1f08a36f",
   "metadata": {},
   "outputs": [
    {
     "data": {
      "text/plain": [
       "'uday kiran'"
      ]
     },
     "execution_count": 12,
     "metadata": {},
     "output_type": "execute_result"
    }
   ],
   "source": [
    "name = \"uday kiran\"\n",
    "name"
   ]
  },
  {
   "cell_type": "code",
   "execution_count": 13,
   "id": "1612eb17",
   "metadata": {},
   "outputs": [
    {
     "data": {
      "text/plain": [
       "' uday kiran '"
      ]
     },
     "execution_count": 13,
     "metadata": {},
     "output_type": "execute_result"
    }
   ],
   "source": [
    "name.center(12)"
   ]
  },
  {
   "cell_type": "markdown",
   "id": "13fe49fd",
   "metadata": {},
   "source": [
    "# 36)ljust( ) :\n",
    "The ljust() method will left align the string, using a specified character (space is default) as the fill character."
   ]
  },
  {
   "cell_type": "code",
   "execution_count": 14,
   "id": "779fa423",
   "metadata": {},
   "outputs": [
    {
     "name": "stdout",
     "output_type": "stream",
     "text": [
      "Help on method_descriptor:\n",
      "\n",
      "ljust(self, width, fillchar=' ', /)\n",
      "    Return a left-justified string of length width.\n",
      "    \n",
      "    Padding is done using the specified fill character (default is a space).\n",
      "\n"
     ]
    }
   ],
   "source": [
    "help(str.ljust)"
   ]
  },
  {
   "cell_type": "code",
   "execution_count": 15,
   "id": "d0411514",
   "metadata": {},
   "outputs": [
    {
     "data": {
      "text/plain": [
       "'uday kiran'"
      ]
     },
     "execution_count": 15,
     "metadata": {},
     "output_type": "execute_result"
    }
   ],
   "source": [
    "name = \"uday kiran\"\n",
    "name"
   ]
  },
  {
   "cell_type": "code",
   "execution_count": 28,
   "id": "1192c983",
   "metadata": {},
   "outputs": [
    {
     "data": {
      "text/plain": [
       "'uday kiran  '"
      ]
     },
     "execution_count": 28,
     "metadata": {},
     "output_type": "execute_result"
    }
   ],
   "source": [
    "name.ljust(12)"
   ]
  },
  {
   "cell_type": "code",
   "execution_count": 30,
   "id": "8f7f2c4f",
   "metadata": {},
   "outputs": [
    {
     "data": {
      "text/plain": [
       "'uday kiranB'"
      ]
     },
     "execution_count": 30,
     "metadata": {},
     "output_type": "execute_result"
    }
   ],
   "source": [
    "name.ljust(11,'B')"
   ]
  },
  {
   "cell_type": "markdown",
   "id": "41afd3fb",
   "metadata": {},
   "source": [
    "# 37)rjust( ) :\n",
    "The rjust() method will right align the string, using a specified character (space is default) as the fill character.\n",
    "\n"
   ]
  },
  {
   "cell_type": "code",
   "execution_count": 27,
   "id": "565dd6f6",
   "metadata": {},
   "outputs": [
    {
     "name": "stdout",
     "output_type": "stream",
     "text": [
      "Help on method_descriptor:\n",
      "\n",
      "rjust(self, width, fillchar=' ', /)\n",
      "    Return a right-justified string of length width.\n",
      "    \n",
      "    Padding is done using the specified fill character (default is a space).\n",
      "\n"
     ]
    }
   ],
   "source": [
    "help(str.rjust)"
   ]
  },
  {
   "cell_type": "code",
   "execution_count": 31,
   "id": "7fbc55c7",
   "metadata": {},
   "outputs": [
    {
     "data": {
      "text/plain": [
       "'uday kiran'"
      ]
     },
     "execution_count": 31,
     "metadata": {},
     "output_type": "execute_result"
    }
   ],
   "source": [
    "name = \"uday kiran\"\n",
    "name"
   ]
  },
  {
   "cell_type": "code",
   "execution_count": 32,
   "id": "df9ea607",
   "metadata": {},
   "outputs": [
    {
     "data": {
      "text/plain": [
       "'  uday kiran'"
      ]
     },
     "execution_count": 32,
     "metadata": {},
     "output_type": "execute_result"
    }
   ],
   "source": [
    "name.rjust(12)"
   ]
  },
  {
   "cell_type": "code",
   "execution_count": 36,
   "id": "225e61c0",
   "metadata": {},
   "outputs": [
    {
     "data": {
      "text/plain": [
       "'Buday kiran'"
      ]
     },
     "execution_count": 36,
     "metadata": {},
     "output_type": "execute_result"
    }
   ],
   "source": [
    "name.rjust(11,'B')"
   ]
  },
  {
   "cell_type": "markdown",
   "id": "800a0758",
   "metadata": {},
   "source": [
    "# 38)zfill( ) :\n",
    "The zfill() method adds zeros (0) at the beginning of the string, until it reaches the specified length.\n",
    "\n",
    "If the value of the len parameter is less than the length of the string, no filling is done."
   ]
  },
  {
   "cell_type": "code",
   "execution_count": 38,
   "id": "59a1fe27",
   "metadata": {},
   "outputs": [
    {
     "name": "stdout",
     "output_type": "stream",
     "text": [
      "Help on method_descriptor:\n",
      "\n",
      "zfill(self, width, /)\n",
      "    Pad a numeric string with zeros on the left, to fill a field of the given width.\n",
      "    \n",
      "    The string is never truncated.\n",
      "\n"
     ]
    }
   ],
   "source": [
    "help(str.zfill)"
   ]
  },
  {
   "cell_type": "code",
   "execution_count": 39,
   "id": "3975152f",
   "metadata": {},
   "outputs": [
    {
     "data": {
      "text/plain": [
       "'uday kiran'"
      ]
     },
     "execution_count": 39,
     "metadata": {},
     "output_type": "execute_result"
    }
   ],
   "source": [
    "name = \"uday kiran\"\n",
    "name"
   ]
  },
  {
   "cell_type": "code",
   "execution_count": 40,
   "id": "a6d03788",
   "metadata": {},
   "outputs": [
    {
     "data": {
      "text/plain": [
       "'00uday kiran'"
      ]
     },
     "execution_count": 40,
     "metadata": {},
     "output_type": "execute_result"
    }
   ],
   "source": [
    "name.zfill(12)"
   ]
  },
  {
   "cell_type": "markdown",
   "id": "03d6d194",
   "metadata": {},
   "source": [
    "# 39)join( ) :\n",
    "The join() method takes all items in an iterable and joins them into one string."
   ]
  },
  {
   "cell_type": "code",
   "execution_count": 41,
   "id": "c8f0e8de",
   "metadata": {},
   "outputs": [
    {
     "name": "stdout",
     "output_type": "stream",
     "text": [
      "Help on method_descriptor:\n",
      "\n",
      "join(self, iterable, /)\n",
      "    Concatenate any number of strings.\n",
      "    \n",
      "    The string whose method is called is inserted in between each given string.\n",
      "    The result is returned as a new string.\n",
      "    \n",
      "    Example: '.'.join(['ab', 'pq', 'rs']) -> 'ab.pq.rs'\n",
      "\n"
     ]
    }
   ],
   "source": [
    "help(str.join)"
   ]
  },
  {
   "cell_type": "markdown",
   "id": "6371f819",
   "metadata": {},
   "source": [
    " join() is an inbuilt string function in Python used to join elements of the sequence separated by a string separator. This function joins elements of a sequence and makes it a string.\n",
    " \n",
    " A string must be specified as the separator."
   ]
  },
  {
   "cell_type": "code",
   "execution_count": 42,
   "id": "6d6763f0",
   "metadata": {},
   "outputs": [
    {
     "data": {
      "text/plain": [
       "'uday kiran'"
      ]
     },
     "execution_count": 42,
     "metadata": {},
     "output_type": "execute_result"
    }
   ],
   "source": [
    "name = \"uday kiran\"\n",
    "name"
   ]
  },
  {
   "cell_type": "code",
   "execution_count": 47,
   "id": "fefaeea2",
   "metadata": {},
   "outputs": [
    {
     "data": {
      "text/plain": [
       "'u-d-a-y- -k-i-r-a-n'"
      ]
     },
     "execution_count": 47,
     "metadata": {},
     "output_type": "execute_result"
    }
   ],
   "source": [
    "'-'.join(name )"
   ]
  },
  {
   "cell_type": "markdown",
   "id": "26a384c8",
   "metadata": {},
   "source": [
    "# 40)startswith( ) :\n",
    "The startswith() method returns True if the string starts with the specified value, otherwise False."
   ]
  },
  {
   "cell_type": "code",
   "execution_count": 49,
   "id": "b7d47724",
   "metadata": {},
   "outputs": [
    {
     "name": "stdout",
     "output_type": "stream",
     "text": [
      "Help on method_descriptor:\n",
      "\n",
      "startswith(...)\n",
      "    S.startswith(prefix[, start[, end]]) -> bool\n",
      "    \n",
      "    Return True if S starts with the specified prefix, False otherwise.\n",
      "    With optional start, test S beginning at that position.\n",
      "    With optional end, stop comparing S at that position.\n",
      "    prefix can also be a tuple of strings to try.\n",
      "\n"
     ]
    }
   ],
   "source": [
    "help(str.startswith)"
   ]
  },
  {
   "cell_type": "code",
   "execution_count": 50,
   "id": "eb0757e6",
   "metadata": {},
   "outputs": [
    {
     "data": {
      "text/plain": [
       "'uday kiran'"
      ]
     },
     "execution_count": 50,
     "metadata": {},
     "output_type": "execute_result"
    }
   ],
   "source": [
    "name = \"uday kiran\"\n",
    "name"
   ]
  },
  {
   "cell_type": "code",
   "execution_count": 51,
   "id": "6529a6d2",
   "metadata": {},
   "outputs": [
    {
     "data": {
      "text/plain": [
       "True"
      ]
     },
     "execution_count": 51,
     "metadata": {},
     "output_type": "execute_result"
    }
   ],
   "source": [
    "name.startswith(\"uday\")"
   ]
  },
  {
   "cell_type": "code",
   "execution_count": 53,
   "id": "d97fbb4b",
   "metadata": {},
   "outputs": [
    {
     "data": {
      "text/plain": [
       "False"
      ]
     },
     "execution_count": 53,
     "metadata": {},
     "output_type": "execute_result"
    }
   ],
   "source": [
    "name.startswith(\"kiran\")"
   ]
  },
  {
   "cell_type": "markdown",
   "id": "5f51e3e4",
   "metadata": {},
   "source": [
    "# 41)endswith( ) :\n",
    "The endswith() method returns True if the string ends with the specified value, otherwise False."
   ]
  },
  {
   "cell_type": "code",
   "execution_count": 54,
   "id": "59ce3f03",
   "metadata": {},
   "outputs": [
    {
     "name": "stdout",
     "output_type": "stream",
     "text": [
      "Help on method_descriptor:\n",
      "\n",
      "endswith(...)\n",
      "    S.endswith(suffix[, start[, end]]) -> bool\n",
      "    \n",
      "    Return True if S ends with the specified suffix, False otherwise.\n",
      "    With optional start, test S beginning at that position.\n",
      "    With optional end, stop comparing S at that position.\n",
      "    suffix can also be a tuple of strings to try.\n",
      "\n"
     ]
    }
   ],
   "source": [
    "help(str.endswith)"
   ]
  },
  {
   "cell_type": "code",
   "execution_count": 55,
   "id": "83108dd1",
   "metadata": {},
   "outputs": [
    {
     "data": {
      "text/plain": [
       "'uday kiran'"
      ]
     },
     "execution_count": 55,
     "metadata": {},
     "output_type": "execute_result"
    }
   ],
   "source": [
    "name = \"uday kiran\"\n",
    "name"
   ]
  },
  {
   "cell_type": "code",
   "execution_count": 56,
   "id": "822f4a44",
   "metadata": {},
   "outputs": [
    {
     "data": {
      "text/plain": [
       "False"
      ]
     },
     "execution_count": 56,
     "metadata": {},
     "output_type": "execute_result"
    }
   ],
   "source": [
    "name.endswith(\"uday\")"
   ]
  },
  {
   "cell_type": "code",
   "execution_count": 57,
   "id": "6ab8913d",
   "metadata": {},
   "outputs": [
    {
     "data": {
      "text/plain": [
       "True"
      ]
     },
     "execution_count": 57,
     "metadata": {},
     "output_type": "execute_result"
    }
   ],
   "source": [
    "name.endswith(\"kiran\")"
   ]
  },
  {
   "cell_type": "markdown",
   "id": "d1f10e09",
   "metadata": {},
   "source": [
    "# 42)count( ) :\n",
    "The count() method returns the number of times a specified value appears in the string.\n",
    "\n"
   ]
  },
  {
   "cell_type": "code",
   "execution_count": 58,
   "id": "2f48849d",
   "metadata": {},
   "outputs": [
    {
     "name": "stdout",
     "output_type": "stream",
     "text": [
      "Help on method_descriptor:\n",
      "\n",
      "count(...)\n",
      "    S.count(sub[, start[, end]]) -> int\n",
      "    \n",
      "    Return the number of non-overlapping occurrences of substring sub in\n",
      "    string S[start:end].  Optional arguments start and end are\n",
      "    interpreted as in slice notation.\n",
      "\n"
     ]
    }
   ],
   "source": [
    "help(str.count)"
   ]
  },
  {
   "cell_type": "code",
   "execution_count": 63,
   "id": "0bae7ecf",
   "metadata": {},
   "outputs": [
    {
     "data": {
      "text/plain": [
       "(35, 4)"
      ]
     },
     "execution_count": 63,
     "metadata": {},
     "output_type": "execute_result"
    }
   ],
   "source": [
    "x='''Peter Piper picked a peck of pickled peppers,\n",
    "A peck of pickled peppers Peter Piper picked,\n",
    "If Peter Piper picked a peck of pickled peppers,\n",
    "Where’s the peck of pickled peppers Peter Piper picked?'''\n",
    "x.count('e'),x.count('e',0,19)\n"
   ]
  },
  {
   "cell_type": "markdown",
   "id": "ae38410e",
   "metadata": {},
   "source": [
    "# input( ) :\n",
    "input (): This function first takes the input from the user and converts it into a string. The type of the returned object always will be <class ‘str’>. "
   ]
  },
  {
   "cell_type": "code",
   "execution_count": 3,
   "id": "5918d982",
   "metadata": {},
   "outputs": [
    {
     "name": "stdout",
     "output_type": "stream",
     "text": [
      "enter the name: uday kiran\n",
      "enter the marks:88\n",
      "uday kiran scored 88 marks\n",
      "uday kiran scored 88 marks\n"
     ]
    }
   ],
   "source": [
    "name=input('enter the name: ')\n",
    "marks = input('enter the marks:')\n",
    "print(name,'scored',marks,'marks')\n",
    "print(f'{name} scored {marks} marks' )"
   ]
  },
  {
   "cell_type": "code",
   "execution_count": 2,
   "id": "c94350db",
   "metadata": {},
   "outputs": [
    {
     "data": {
      "text/plain": [
       "str"
      ]
     },
     "execution_count": 2,
     "metadata": {},
     "output_type": "execute_result"
    }
   ],
   "source": [
    "type(name)"
   ]
  }
 ],
 "metadata": {
  "kernelspec": {
   "display_name": "Python 3 (ipykernel)",
   "language": "python",
   "name": "python3"
  },
  "language_info": {
   "codemirror_mode": {
    "name": "ipython",
    "version": 3
   },
   "file_extension": ".py",
   "mimetype": "text/x-python",
   "name": "python",
   "nbconvert_exporter": "python",
   "pygments_lexer": "ipython3",
   "version": "3.11.3"
  }
 },
 "nbformat": 4,
 "nbformat_minor": 5
}
