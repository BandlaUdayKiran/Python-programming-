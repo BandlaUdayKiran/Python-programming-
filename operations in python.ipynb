{
 "cells": [
  {
   "cell_type": "code",
   "execution_count": 1,
   "id": "dabaa063",
   "metadata": {},
   "outputs": [],
   "source": [
    "#OPERATORS IN PYTHON:-\n",
    "#Operations are used to perform operations on variables and value.\n",
    "#In python we have following operators.\n",
    "#1)Arithmetic operators\n",
    "#2)Comperison operators\n",
    "#3)Identity operators\n",
    "#4)Logical operators\n",
    "#5)Membership operators\n",
    "#6)Bitwise operators\n",
    "#7)Assignment operators"
   ]
  },
  {
   "cell_type": "code",
   "execution_count": 10,
   "id": "b1a98469",
   "metadata": {},
   "outputs": [
    {
     "name": "stdout",
     "output_type": "stream",
     "text": [
      "Addition of a and b is: 25\n",
      "Substraction of a and b is: 15\n",
      "Multiplication of a and b is: 100\n",
      "Division of a and b is: 4.0\n",
      "Modulus of a and b is: 0\n",
      "Exponent of a and b is: 3200000\n",
      "Floor division of a and b is: 4\n"
     ]
    }
   ],
   "source": [
    "#1)Arithmatic operations:-\n",
    "#Arithmatic operators are used to perform arithmetic operations between variables or two values.\n",
    "a = 3\n",
    "b = 9\n",
    "print(\"Addition of a and b is:\",a+b)          #Addition operator \n",
    "print(\"Substraction of a and b is:\",a-b)      #Substraction operator\n",
    "print(\"Multiplication of a and b is:\",a*b)    #Multiplication operator\n",
    "print(\"Division of a and b is:\",a/b)          #Division operator\n",
    "print(\"Modulus of a and b is:\",a%b)           #Modulus operator\n",
    "print(\"Exponent of a and b is:\",a**b)         #Exponent operator\n",
    "print(\"Floor division of a and b is:\",a//b)   #Floor Division operator"
   ]
  },
  {
   "cell_type": "code",
   "execution_count": 11,
   "id": "2068e4bd",
   "metadata": {},
   "outputs": [
    {
     "name": "stdout",
     "output_type": "stream",
     "text": [
      "False\n",
      "True\n",
      "False\n",
      "True\n",
      "False\n",
      "True\n"
     ]
    }
   ],
   "source": [
    "#2)Comparison operations:-\n",
    "#Comparison operators compare the values on either sides of variables or values.\n",
    "c = 4\n",
    "d = 5\n",
    "print(c==d) #Equal operator:it returns True if c and d are equal otherwise it return False.\n",
    "print(c!=d) #Notequal operator:it returns True if c and d are not equal otherwise it returns False.\n",
    "print(c>d)  #Greater than operator:it returns True if c is greater than d otherwise it returns False.\n",
    "print(c<d)  #Lessthan than operator:it returns True if c is less than d otherwise it returns False.\n",
    "print(c>=d) #Greaterthan and equalto operator:it returns True if c is greater than and equal to d otherwise it returns False.\n",
    "print(c<=d) #Lessthan and equalto operator:it returns True if c is less than and equal to d otherwise it returns False."
   ]
  },
  {
   "cell_type": "code",
   "execution_count": 12,
   "id": "536ef72e",
   "metadata": {},
   "outputs": [
    {
     "name": "stdout",
     "output_type": "stream",
     "text": [
      "False\n",
      "True\n",
      "True\n",
      "False\n",
      "True\n",
      "False\n"
     ]
    }
   ],
   "source": [
    "#Comparison operations by using different strings:-\n",
    "e = \"Python\"\n",
    "f = \"Java\"\n",
    "print(e==f) #Equal operator.\n",
    "print(e!=f) #Notequal operator.\n",
    "print(e>f)  #Greater than operator.\n",
    "print(e<f)  #Lessthan than operator.\n",
    "print(e>=f) #Greaterthan and equalto operator.\n",
    "print(e<=f) #Lessthan and equalto operator."
   ]
  },
  {
   "cell_type": "code",
   "execution_count": 13,
   "id": "3049aa0d",
   "metadata": {},
   "outputs": [
    {
     "name": "stdout",
     "output_type": "stream",
     "text": [
      "True\n",
      "False\n",
      "False\n",
      "False\n",
      "True\n",
      "True\n"
     ]
    }
   ],
   "source": [
    "#comparison operations by using same strings:-\n",
    "g = \"Hyderabad\"\n",
    "h = \"Hyderabad\"\n",
    "print(g==h) #Equal operator.\n",
    "print(g!=h) #Notequal operator.\n",
    "print(g>h)  #Greater than operator.\n",
    "print(g<h)  #Lessthan than operator.\n",
    "print(g>=h) #Greaterthan and equalto operator.\n",
    "print(g<=h) #Lessthan and equalto operator."
   ]
  },
  {
   "cell_type": "code",
   "execution_count": 15,
   "id": "a2110a32",
   "metadata": {},
   "outputs": [
    {
     "name": "stdout",
     "output_type": "stream",
     "text": [
      "False\n",
      "True\n"
     ]
    }
   ],
   "source": [
    "#3)Identity operations:-\n",
    "#Identity operators are used to compare the given variables and determine whether the given variables have same identity or not.\n",
    "i = 1\n",
    "j = 2\n",
    "print(i is j) #Is operator:it returns true if both variables are same object with the same memory location.\n",
    "print(i is not j) #Is not operator:it returns true if both variables are not same object with the same memory location."
   ]
  },
  {
   "cell_type": "code",
   "execution_count": 1,
   "id": "6d19a3ca",
   "metadata": {},
   "outputs": [
    {
     "name": "stdout",
     "output_type": "stream",
     "text": [
      "False\n",
      "True\n",
      "True\n",
      "True\n",
      "False\n",
      "False\n"
     ]
    }
   ],
   "source": [
    "#4)Logical operations:-\n",
    "#Logical operations used to compare the both the variables and return True if the given condition is true.\n",
    "#It is mostly used on conditional statements.\n",
    "k = 5\n",
    "l = 3\n",
    "print(k>l and k<l)      #andgate:it returns True if both conditions is True.\n",
    "print(k>l and k>l)\n",
    "print(k>l or k<l)       #orgate:it returns True if one of the conditions is True.\n",
    "print(k>l or k>l)\n",
    "print(not k>l and k<l) #notgate:reverse the result,returns False if the result is True.\n",
    "print(not k<l and k<l)\n",
    "      "
   ]
  },
  {
   "cell_type": "code",
   "execution_count": 5,
   "id": "fcc294dd",
   "metadata": {},
   "outputs": [
    {
     "name": "stdout",
     "output_type": "stream",
     "text": [
      "True\n",
      "False\n",
      "False\n",
      "True\n",
      "True\n",
      "False\n",
      "False\n",
      "True\n"
     ]
    }
   ],
   "source": [
    "#5)Membership operation:\n",
    "#membership operations are used to check whether the given sequence or value is presented in variable or not.\n",
    "#by using a tuple\n",
    "m = (1,2,3)\n",
    "print(1 in m)     #in operator:it returns true if the value is present in the givenvariable.\n",
    "print(4 in m)\n",
    "print(2 not in m) #notin operator:it returns true if the value is not present in the given variable.\n",
    "print(4 not in m)\n",
    "#by using list\n",
    "n = [\"bat\",\"ball\"]\n",
    "print(\"bat\" in n)\n",
    "print(\"wickets\" in n)\n",
    "print(\"ball\" not in n)\n",
    "print(\"wickets\" not in n)\n"
   ]
  },
  {
   "cell_type": "code",
   "execution_count": 11,
   "id": "117913ba",
   "metadata": {},
   "outputs": [
    {
     "name": "stdout",
     "output_type": "stream",
     "text": [
      "2\n",
      "15\n",
      "13\n",
      "-7 -12\n",
      "12288\n",
      "0\n"
     ]
    }
   ],
   "source": [
    "#6)Bitwise operators:-\n",
    "#bitwise operators are used to compare binary numbers.\n",
    "o = 6\n",
    "p = 11\n",
    "print(o&p)    #bitwise AND operator (&).\n",
    "print(o|p)    #bitwise OR operator (|). \n",
    "print(o^p)    #bitwise XOR operator (^).\n",
    "print(~o,~p)  #bitwise NOT operator (~).\n",
    "print(o<<p)   #bitwise LEFT SHIFT operator(<<).\n",
    "print(o>>p)   #bitwise RIGHT SHIFT operator(>>)."
   ]
  },
  {
   "cell_type": "code",
   "execution_count": 47,
   "id": "0bbb8964",
   "metadata": {
    "scrolled": true
   },
   "outputs": [
    {
     "name": "stdout",
     "output_type": "stream",
     "text": [
      "10\n",
      "15\n",
      "10\n",
      "50\n",
      "10.0\n",
      "0.0\n",
      "0.0\n",
      "0.0\n",
      "5\n",
      "5\n",
      "0\n",
      "0\n",
      "0\n"
     ]
    }
   ],
   "source": [
    "#7)Assignment operations:-\n",
    "#assignment operators are used to assign values. let x = 10 here 10 is the value assigned to variable x.\n",
    "x = 10   #assignment operator.\n",
    "print(x)\n",
    "x+=5     #Addition assignment operator.\n",
    "print(x)\n",
    "x-=5     #substraction assignment operator.\n",
    "print(x)\n",
    "x*=5     #multiplication assignment operator.\n",
    "print(x)\n",
    "x/=5     #division assignment operator.\n",
    "print(x)\n",
    "x%=5     #modulus assignment  operator.\n",
    "print(x)\n",
    "x**=5    #exponent assignment operator.\n",
    "print(x)\n",
    "x//=5    #floor division operator.\n",
    "print(x)\n",
    "x=y      \n",
    "x&=y     #bitwise AND assignment operator.\n",
    "print(x)\n",
    "x|=y    #bitwise OR assignment operator.\n",
    "print(x)\n",
    "x^=y    #bitwise XOR assignment operator.\n",
    "print(x)\n",
    "x<<=y   #bitwise LEFT SHIFT assignment operator.\n",
    "print(x)\n",
    "x>>=y   #bitwise RIGHT SHIFT assignment operator.\n",
    "print(x)"
   ]
  },
  {
   "cell_type": "code",
   "execution_count": null,
   "id": "1589917d",
   "metadata": {},
   "outputs": [],
   "source": []
  }
 ],
 "metadata": {
  "kernelspec": {
   "display_name": "Python 3 (ipykernel)",
   "language": "python",
   "name": "python3"
  },
  "language_info": {
   "codemirror_mode": {
    "name": "ipython",
    "version": 3
   },
   "file_extension": ".py",
   "mimetype": "text/x-python",
   "name": "python",
   "nbconvert_exporter": "python",
   "pygments_lexer": "ipython3",
   "version": "3.11.3"
  }
 },
 "nbformat": 4,
 "nbformat_minor": 5
}
