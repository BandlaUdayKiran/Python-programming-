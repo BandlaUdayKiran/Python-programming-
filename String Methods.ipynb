{
 "cells": [
  {
   "cell_type": "markdown",
   "id": "674049ff",
   "metadata": {},
   "source": [
    "# String Methods"
   ]
  },
  {
   "cell_type": "markdown",
   "id": "e48e47bc",
   "metadata": {},
   "source": [
    "Python has a set of built-in methods that you can use on strings.\n",
    "\n",
    "All string methods returns new values. They do not change the original string.\n",
    "\n",
    "To know how many string methods are there in python, we use dir() which gives every information on perticular object."
   ]
  },
  {
   "cell_type": "code",
   "execution_count": 1,
   "id": "346b82b5",
   "metadata": {},
   "outputs": [
    {
     "data": {
      "text/plain": [
       "'Hello and Welcome to String Methods 123'"
      ]
     },
     "execution_count": 1,
     "metadata": {},
     "output_type": "execute_result"
    }
   ],
   "source": [
    "txt = \"Hello and Welcome to String Methods 123\"\n",
    "txt"
   ]
  },
  {
   "cell_type": "code",
   "execution_count": 2,
   "id": "3aac0801",
   "metadata": {},
   "outputs": [
    {
     "data": {
      "text/plain": [
       "['__add__',\n",
       " '__class__',\n",
       " '__contains__',\n",
       " '__delattr__',\n",
       " '__dir__',\n",
       " '__doc__',\n",
       " '__eq__',\n",
       " '__format__',\n",
       " '__ge__',\n",
       " '__getattribute__',\n",
       " '__getitem__',\n",
       " '__getnewargs__',\n",
       " '__getstate__',\n",
       " '__gt__',\n",
       " '__hash__',\n",
       " '__init__',\n",
       " '__init_subclass__',\n",
       " '__iter__',\n",
       " '__le__',\n",
       " '__len__',\n",
       " '__lt__',\n",
       " '__mod__',\n",
       " '__mul__',\n",
       " '__ne__',\n",
       " '__new__',\n",
       " '__reduce__',\n",
       " '__reduce_ex__',\n",
       " '__repr__',\n",
       " '__rmod__',\n",
       " '__rmul__',\n",
       " '__setattr__',\n",
       " '__sizeof__',\n",
       " '__str__',\n",
       " '__subclasshook__',\n",
       " 'capitalize',\n",
       " 'casefold',\n",
       " 'center',\n",
       " 'count',\n",
       " 'encode',\n",
       " 'endswith',\n",
       " 'expandtabs',\n",
       " 'find',\n",
       " 'format',\n",
       " 'format_map',\n",
       " 'index',\n",
       " 'isalnum',\n",
       " 'isalpha',\n",
       " 'isascii',\n",
       " 'isdecimal',\n",
       " 'isdigit',\n",
       " 'isidentifier',\n",
       " 'islower',\n",
       " 'isnumeric',\n",
       " 'isprintable',\n",
       " 'isspace',\n",
       " 'istitle',\n",
       " 'isupper',\n",
       " 'join',\n",
       " 'ljust',\n",
       " 'lower',\n",
       " 'lstrip',\n",
       " 'maketrans',\n",
       " 'partition',\n",
       " 'removeprefix',\n",
       " 'removesuffix',\n",
       " 'replace',\n",
       " 'rfind',\n",
       " 'rindex',\n",
       " 'rjust',\n",
       " 'rpartition',\n",
       " 'rsplit',\n",
       " 'rstrip',\n",
       " 'split',\n",
       " 'splitlines',\n",
       " 'startswith',\n",
       " 'strip',\n",
       " 'swapcase',\n",
       " 'title',\n",
       " 'translate',\n",
       " 'upper',\n",
       " 'zfill']"
      ]
     },
     "execution_count": 2,
     "metadata": {},
     "output_type": "execute_result"
    }
   ],
   "source": [
    "dir(txt)"
   ]
  },
  {
   "cell_type": "code",
   "execution_count": 3,
   "id": "1f89e703",
   "metadata": {},
   "outputs": [
    {
     "data": {
      "text/plain": [
       "81"
      ]
     },
     "execution_count": 3,
     "metadata": {},
     "output_type": "execute_result"
    }
   ],
   "source": [
    "x = ['__add__',\n",
    " '__class__',\n",
    " '__contains__',\n",
    " '__delattr__',\n",
    " '__dir__',\n",
    " '__doc__',\n",
    " '__eq__',\n",
    " '__format__',\n",
    " '__ge__',\n",
    " '__getattribute__',\n",
    " '__getitem__',\n",
    " '__getnewargs__',\n",
    " '__getstate__',\n",
    " '__gt__',\n",
    " '__hash__',\n",
    " '__init__',\n",
    " '__init_subclass__',\n",
    " '__iter__',\n",
    " '__le__',\n",
    " '__len__',\n",
    " '__lt__',\n",
    " '__mod__',\n",
    " '__mul__',\n",
    " '__ne__',\n",
    " '__new__',\n",
    " '__reduce__',\n",
    " '__reduce_ex__',\n",
    " '__repr__',\n",
    " '__rmod__',\n",
    " '__rmul__',\n",
    " '__setattr__',\n",
    " '__sizeof__',\n",
    " '__str__',\n",
    " '__subclasshook__',\n",
    " 'capitalize',\n",
    " 'casefold',\n",
    " 'center',\n",
    " 'count',\n",
    " 'encode',\n",
    " 'endswith',\n",
    " 'expandtabs',\n",
    " 'find',\n",
    " 'format',\n",
    " 'format_map',\n",
    " 'index',\n",
    " 'isalnum',\n",
    " 'isalpha',\n",
    " 'isascii',\n",
    " 'isdecimal',\n",
    " 'isdigit',\n",
    " 'isidentifier',\n",
    " 'islower',\n",
    " 'isnumeric',\n",
    " 'isprintable',\n",
    " 'isspace',\n",
    " 'istitle',\n",
    " 'isupper',\n",
    " 'join',\n",
    " 'ljust',\n",
    " 'lower',\n",
    " 'lstrip',\n",
    " 'maketrans',\n",
    " 'partition',\n",
    " 'removeprefix',\n",
    " 'removesuffix',\n",
    " 'replace',\n",
    " 'rfind',\n",
    " 'rindex',\n",
    " 'rjust',\n",
    " 'rpartition',\n",
    " 'rsplit',\n",
    " 'rstrip',\n",
    " 'split',\n",
    " 'splitlines',\n",
    " 'startswith',\n",
    " 'strip',\n",
    " 'swapcase',\n",
    " 'title',\n",
    " 'translate',\n",
    " 'upper',\n",
    " 'zfill']\n",
    "len(x)"
   ]
  },
  {
   "cell_type": "markdown",
   "id": "743067a8",
   "metadata": {},
   "source": [
    "To get the documentation of a string method,we use help() .The Syntax is-(help(str.method))"
   ]
  },
  {
   "cell_type": "markdown",
   "id": "76a197b8",
   "metadata": {},
   "source": [
    "### 1)capitalize( ) :\n",
    "\n",
    "The capitalize() method returns a string where the first character is upper case, and the rest is lower case."
   ]
  },
  {
   "cell_type": "code",
   "execution_count": 4,
   "id": "a668ddfd",
   "metadata": {},
   "outputs": [
    {
     "name": "stdout",
     "output_type": "stream",
     "text": [
      "Help on method_descriptor:\n",
      "\n",
      "capitalize(self, /)\n",
      "    Return a capitalized version of the string.\n",
      "    \n",
      "    More specifically, make the first character have upper case and the rest lower\n",
      "    case.\n",
      "\n"
     ]
    }
   ],
   "source": [
    "help(str.capitalize)"
   ]
  },
  {
   "cell_type": "code",
   "execution_count": 5,
   "id": "872178fc",
   "metadata": {},
   "outputs": [
    {
     "name": "stdout",
     "output_type": "stream",
     "text": [
      "Hello and Welcome to String Methods 123\n",
      "Hello and welcome to string methods 123\n"
     ]
    }
   ],
   "source": [
    "txt = \"Hello and Welcome to String Methods 123\"\n",
    "print(txt)\n",
    "print(txt.capitalize())"
   ]
  },
  {
   "cell_type": "markdown",
   "id": "a13563f2",
   "metadata": {},
   "source": [
    "### 2)upper( ) :\n",
    "The upper() method returns a string where all characters are in upper case.Symbols and Numbers are ignored.\n"
   ]
  },
  {
   "cell_type": "code",
   "execution_count": 6,
   "id": "62450bf1",
   "metadata": {},
   "outputs": [
    {
     "name": "stdout",
     "output_type": "stream",
     "text": [
      "Help on method_descriptor:\n",
      "\n",
      "upper(self, /)\n",
      "    Return a copy of the string converted to uppercase.\n",
      "\n"
     ]
    }
   ],
   "source": [
    "help(str.upper)"
   ]
  },
  {
   "cell_type": "code",
   "execution_count": 7,
   "id": "d26a9c70",
   "metadata": {},
   "outputs": [
    {
     "name": "stdout",
     "output_type": "stream",
     "text": [
      "Hello and Welcome to String Methods 123\n",
      "HELLO AND WELCOME TO STRING METHODS 123\n"
     ]
    }
   ],
   "source": [
    "txt = \"Hello and Welcome to String Methods 123\"\n",
    "print(txt)\n",
    "print(txt.upper())"
   ]
  },
  {
   "cell_type": "markdown",
   "id": "6652620d",
   "metadata": {},
   "source": [
    "### 3)lower( ) :\n",
    "The lower() method returns a string where all characters are lower case.Symbols and Numbers are ignored."
   ]
  },
  {
   "cell_type": "code",
   "execution_count": 8,
   "id": "f605f017",
   "metadata": {},
   "outputs": [
    {
     "name": "stdout",
     "output_type": "stream",
     "text": [
      "Help on method_descriptor:\n",
      "\n",
      "lower(self, /)\n",
      "    Return a copy of the string converted to lowercase.\n",
      "\n"
     ]
    }
   ],
   "source": [
    "help(str.lower)"
   ]
  },
  {
   "cell_type": "code",
   "execution_count": 9,
   "id": "46f1c3e6",
   "metadata": {},
   "outputs": [
    {
     "name": "stdout",
     "output_type": "stream",
     "text": [
      "Hello and Welcome to String Methods 123\n",
      "hello and welcome to string methods 123\n"
     ]
    }
   ],
   "source": [
    "txt = \"Hello and Welcome to String Methods 123\"\n",
    "print(txt)\n",
    "print(txt.lower())"
   ]
  },
  {
   "cell_type": "markdown",
   "id": "cbd8eb5c",
   "metadata": {},
   "source": [
    "### 4)title( ) :\n",
    "The title() method returns a string where the first character in every word is upper case. Like a header, or a title.\n",
    "\n",
    "If the word contains a number or a symbol, the first letter after that will be converted to upper case."
   ]
  },
  {
   "cell_type": "code",
   "execution_count": 10,
   "id": "4b0250e8",
   "metadata": {},
   "outputs": [
    {
     "name": "stdout",
     "output_type": "stream",
     "text": [
      "Help on method_descriptor:\n",
      "\n",
      "title(self, /)\n",
      "    Return a version of the string where each word is titlecased.\n",
      "    \n",
      "    More specifically, words start with uppercased characters and all remaining\n",
      "    cased characters have lower case.\n",
      "\n"
     ]
    }
   ],
   "source": [
    "help(str.title)"
   ]
  },
  {
   "cell_type": "code",
   "execution_count": 11,
   "id": "5a6d5ce8",
   "metadata": {},
   "outputs": [
    {
     "name": "stdout",
     "output_type": "stream",
     "text": [
      "Hello and Welcome to String Methods 123\n",
      "Hello And Welcome To String Methods 123\n"
     ]
    }
   ],
   "source": [
    "txt = \"Hello and Welcome to String Methods 123\"\n",
    "print(txt)\n",
    "print(txt.title())"
   ]
  },
  {
   "cell_type": "markdown",
   "id": "887c09b6",
   "metadata": {},
   "source": [
    "### 5)replace( ) :\n",
    "The replace() method replaces a specified phrase with another specified phrase."
   ]
  },
  {
   "cell_type": "code",
   "execution_count": 12,
   "id": "13a95b60",
   "metadata": {},
   "outputs": [
    {
     "name": "stdout",
     "output_type": "stream",
     "text": [
      "Help on method_descriptor:\n",
      "\n",
      "replace(self, old, new, count=-1, /)\n",
      "    Return a copy with all occurrences of substring old replaced by new.\n",
      "    \n",
      "      count\n",
      "        Maximum number of occurrences to replace.\n",
      "        -1 (the default value) means replace all occurrences.\n",
      "    \n",
      "    If the optional argument count is given, only the first count occurrences are\n",
      "    replaced.\n",
      "\n"
     ]
    }
   ],
   "source": [
    "help(str.replace)"
   ]
  },
  {
   "cell_type": "code",
   "execution_count": 13,
   "id": "15bb49e5",
   "metadata": {},
   "outputs": [
    {
     "name": "stdout",
     "output_type": "stream",
     "text": [
      "Hello and Welcome to String Methods 123\n",
      "Hello And Welcome to String Methods 123\n",
      "Hello guys Welcome to String Methods 123\n"
     ]
    }
   ],
   "source": [
    "txt = \"Hello and Welcome to String Methods 123\"\n",
    "print(txt)\n",
    "print(txt.replace('a','A'))\n",
    "print(txt.replace('and','guys'))"
   ]
  },
  {
   "cell_type": "markdown",
   "id": "0b4b448e",
   "metadata": {},
   "source": [
    "### 6)ord( ) :\n",
    "The ord() function returns the number representing the unicode code of a specified character."
   ]
  },
  {
   "cell_type": "code",
   "execution_count": 14,
   "id": "ea7f66ab",
   "metadata": {},
   "outputs": [
    {
     "name": "stdout",
     "output_type": "stream",
     "text": [
      "117\n",
      "U\n"
     ]
    }
   ],
   "source": [
    "print(ord('u'))\n",
    "print(chr(ord('u')-32))"
   ]
  },
  {
   "cell_type": "code",
   "execution_count": 15,
   "id": "207e1a37",
   "metadata": {},
   "outputs": [
    {
     "name": "stdout",
     "output_type": "stream",
     "text": [
      "68\n",
      "D\n"
     ]
    }
   ],
   "source": [
    "print(ord('D'))\n",
    "print(chr(ord('d')-32))"
   ]
  },
  {
   "cell_type": "code",
   "execution_count": 16,
   "id": "8e946b47",
   "metadata": {},
   "outputs": [
    {
     "name": "stdout",
     "output_type": "stream",
     "text": [
      "110\n",
      "N\n"
     ]
    }
   ],
   "source": [
    "print(ord('n'))\n",
    "print(chr(ord('n')-32))"
   ]
  },
  {
   "cell_type": "markdown",
   "id": "2de1d454",
   "metadata": {},
   "source": [
    "### 7)swapcase( ) :\n",
    "The swapcase() method returns a string where all the upper case letters are lower case and vice versa.\n"
   ]
  },
  {
   "cell_type": "code",
   "execution_count": 17,
   "id": "62942a37",
   "metadata": {},
   "outputs": [
    {
     "name": "stdout",
     "output_type": "stream",
     "text": [
      "Help on method_descriptor:\n",
      "\n",
      "swapcase(self, /)\n",
      "    Convert uppercase characters to lowercase and lowercase characters to uppercase.\n",
      "\n"
     ]
    }
   ],
   "source": [
    "help(str.swapcase)"
   ]
  },
  {
   "cell_type": "code",
   "execution_count": 18,
   "id": "d2c81f1c",
   "metadata": {},
   "outputs": [
    {
     "name": "stdout",
     "output_type": "stream",
     "text": [
      "Hello and Welcome to String Methods 123\n",
      "hELLO AND wELCOME TO sTRING mETHODS 123\n"
     ]
    }
   ],
   "source": [
    "txt = \"Hello and Welcome to String Methods 123\"\n",
    "print(txt)\n",
    "print(txt.swapcase())"
   ]
  },
  {
   "cell_type": "markdown",
   "id": "38586335",
   "metadata": {},
   "source": [
    "### 8)casefold( ) :\n",
    "The casefold() method returns a string where all the characters are lower case.\n",
    "\n",
    "This method is similar to the lower() method, but the casefold() method is stronger, more aggressive, meaning that it will convert more characters into lower case, and will find more matches when comparing two strings and both are converted using the casefold() method."
   ]
  },
  {
   "cell_type": "code",
   "execution_count": 19,
   "id": "f4a3d3b3",
   "metadata": {},
   "outputs": [
    {
     "name": "stdout",
     "output_type": "stream",
     "text": [
      "Help on method_descriptor:\n",
      "\n",
      "casefold(self, /)\n",
      "    Return a version of the string suitable for caseless comparisons.\n",
      "\n"
     ]
    }
   ],
   "source": [
    "help(str.casefold)"
   ]
  },
  {
   "cell_type": "code",
   "execution_count": 20,
   "id": "987d179f",
   "metadata": {},
   "outputs": [
    {
     "name": "stdout",
     "output_type": "stream",
     "text": [
      "ß is a german character\n",
      "ss is a german character\n"
     ]
    }
   ],
   "source": [
    "a = \"ß is a German character\"\n",
    "print(a.lower())\n",
    "print(a.casefold())"
   ]
  },
  {
   "cell_type": "markdown",
   "id": "37e1a697",
   "metadata": {},
   "source": [
    "### 9)find() :\n",
    "The find() method finds the first occurrence of the specified value.\n",
    "\n",
    "The find() method returns -1 if the value is not found.\n",
    "\n",
    "The find() method is almost the same as the index() method, the only difference is that the index() method raises an exception if the value is not found.\n"
   ]
  },
  {
   "cell_type": "code",
   "execution_count": 21,
   "id": "fb5cdf61",
   "metadata": {},
   "outputs": [
    {
     "name": "stdout",
     "output_type": "stream",
     "text": [
      "Help on method_descriptor:\n",
      "\n",
      "find(...)\n",
      "    S.find(sub[, start[, end]]) -> int\n",
      "    \n",
      "    Return the lowest index in S where substring sub is found,\n",
      "    such that sub is contained within S[start:end].  Optional\n",
      "    arguments start and end are interpreted as in slice notation.\n",
      "    \n",
      "    Return -1 on failure.\n",
      "\n"
     ]
    }
   ],
   "source": [
    "help(str.find)"
   ]
  },
  {
   "cell_type": "code",
   "execution_count": 22,
   "id": "84753ed7",
   "metadata": {},
   "outputs": [
    {
     "data": {
      "text/plain": [
       "10"
      ]
     },
     "execution_count": 22,
     "metadata": {},
     "output_type": "execute_result"
    }
   ],
   "source": [
    "tt =\"A skunk sat on a stump and thunk the stump stunk, but the stump thunk the skunk stunk\"\n",
    "tt.find('t')"
   ]
  },
  {
   "cell_type": "code",
   "execution_count": 23,
   "id": "84b9993c",
   "metadata": {},
   "outputs": [
    {
     "data": {
      "text/plain": [
       "33"
      ]
     },
     "execution_count": 23,
     "metadata": {},
     "output_type": "execute_result"
    }
   ],
   "source": [
    "tt =\"A skunk sat on a stump and thunk the stump stunk, but the stump thunk the skunk stunk\"\n",
    "tt.find('the')"
   ]
  },
  {
   "cell_type": "code",
   "execution_count": 24,
   "id": "5f8330f2",
   "metadata": {},
   "outputs": [
    {
     "data": {
      "text/plain": [
       "-1"
      ]
     },
     "execution_count": 24,
     "metadata": {},
     "output_type": "execute_result"
    }
   ],
   "source": [
    "tt =\"A skunk sat on a stump and thunk the stump stunk, but the stump thunk the skunk stunk\"\n",
    "tt.find('kkk')"
   ]
  },
  {
   "cell_type": "markdown",
   "id": "32196da4",
   "metadata": {},
   "source": [
    "### 10)rfind( ) :\n",
    "The rfind() method finds the last occurrence of the specified value.\n",
    "\n",
    "The rfind() method returns -1 if the value is not found.\n",
    "\n",
    "In simple words,It initiats the search from right to left."
   ]
  },
  {
   "cell_type": "code",
   "execution_count": 25,
   "id": "3719c31c",
   "metadata": {},
   "outputs": [
    {
     "name": "stdout",
     "output_type": "stream",
     "text": [
      "Help on method_descriptor:\n",
      "\n",
      "rfind(...)\n",
      "    S.rfind(sub[, start[, end]]) -> int\n",
      "    \n",
      "    Return the highest index in S where substring sub is found,\n",
      "    such that sub is contained within S[start:end].  Optional\n",
      "    arguments start and end are interpreted as in slice notation.\n",
      "    \n",
      "    Return -1 on failure.\n",
      "\n"
     ]
    }
   ],
   "source": [
    "help(str.rfind)"
   ]
  },
  {
   "cell_type": "code",
   "execution_count": 26,
   "id": "4d9b7d9f",
   "metadata": {},
   "outputs": [
    {
     "data": {
      "text/plain": [
       "81"
      ]
     },
     "execution_count": 26,
     "metadata": {},
     "output_type": "execute_result"
    }
   ],
   "source": [
    "tt =\"A skunk sat on a stump and thunk the stump stunk, but the stump thunk the skunk stunk\"\n",
    "tt.rfind('t')"
   ]
  },
  {
   "cell_type": "code",
   "execution_count": 27,
   "id": "1112c3fd",
   "metadata": {},
   "outputs": [
    {
     "data": {
      "text/plain": [
       "70"
      ]
     },
     "execution_count": 27,
     "metadata": {},
     "output_type": "execute_result"
    }
   ],
   "source": [
    "tt =\"A skunk sat on a stump and thunk the stump stunk, but the stump thunk the skunk stunk\"\n",
    "tt.rfind('the')"
   ]
  },
  {
   "cell_type": "code",
   "execution_count": 28,
   "id": "68830869",
   "metadata": {},
   "outputs": [
    {
     "data": {
      "text/plain": [
       "-1"
      ]
     },
     "execution_count": 28,
     "metadata": {},
     "output_type": "execute_result"
    }
   ],
   "source": [
    "tt =\"A skunk sat on a stump and thunk the stump stunk, but the stump thunk the skunk stunk\"\n",
    "tt.find('kkk')"
   ]
  },
  {
   "cell_type": "markdown",
   "id": "fa4c839b",
   "metadata": {},
   "source": [
    "### 11)index( ) :\n",
    "The index() method finds the first occurrence of the specified value.\n",
    "\n",
    "The index() method raises an exception if the value is not found.\n",
    "\n",
    "The index() method is almost the same as the find() method, the only difference is that the find() method returns -1 if the value is not found."
   ]
  },
  {
   "cell_type": "code",
   "execution_count": 29,
   "id": "6d8a6327",
   "metadata": {},
   "outputs": [
    {
     "name": "stdout",
     "output_type": "stream",
     "text": [
      "Help on method_descriptor:\n",
      "\n",
      "index(...)\n",
      "    S.index(sub[, start[, end]]) -> int\n",
      "    \n",
      "    Return the lowest index in S where substring sub is found,\n",
      "    such that sub is contained within S[start:end].  Optional\n",
      "    arguments start and end are interpreted as in slice notation.\n",
      "    \n",
      "    Raises ValueError when the substring is not found.\n",
      "\n"
     ]
    }
   ],
   "source": [
    "help(str.index)"
   ]
  },
  {
   "cell_type": "code",
   "execution_count": 30,
   "id": "775e2c68",
   "metadata": {},
   "outputs": [
    {
     "data": {
      "text/plain": [
       "20"
      ]
     },
     "execution_count": 30,
     "metadata": {},
     "output_type": "execute_result"
    }
   ],
   "source": [
    "tt =\"A skunk sat on a stump and thunk the stump stunk, but the stump thunk the skunk stunk\"\n",
    "tt.index('m')"
   ]
  },
  {
   "cell_type": "code",
   "execution_count": 31,
   "id": "df38e691",
   "metadata": {},
   "outputs": [
    {
     "data": {
      "text/plain": [
       "17"
      ]
     },
     "execution_count": 31,
     "metadata": {},
     "output_type": "execute_result"
    }
   ],
   "source": [
    "tt =\"A skunk sat on a stump and thunk the stump stunk, but the stump thunk the skunk stunk\"\n",
    "tt.index('stump')"
   ]
  },
  {
   "cell_type": "code",
   "execution_count": 32,
   "id": "9dd49555",
   "metadata": {},
   "outputs": [
    {
     "ename": "ValueError",
     "evalue": "substring not found",
     "output_type": "error",
     "traceback": [
      "\u001b[1;31m---------------------------------------------------------------------------\u001b[0m",
      "\u001b[1;31mValueError\u001b[0m                                Traceback (most recent call last)",
      "Cell \u001b[1;32mIn[32], line 2\u001b[0m\n\u001b[0;32m      1\u001b[0m tt \u001b[38;5;241m=\u001b[39m\u001b[38;5;124m\"\u001b[39m\u001b[38;5;124mA skunk sat on a stump and thunk the stump stunk, but the stump thunk the skunk stunk\u001b[39m\u001b[38;5;124m\"\u001b[39m\n\u001b[1;32m----> 2\u001b[0m tt\u001b[38;5;241m.\u001b[39mindex(\u001b[38;5;124m'\u001b[39m\u001b[38;5;124mmm\u001b[39m\u001b[38;5;124m'\u001b[39m)\n",
      "\u001b[1;31mValueError\u001b[0m: substring not found"
     ]
    }
   ],
   "source": [
    "tt =\"A skunk sat on a stump and thunk the stump stunk, but the stump thunk the skunk stunk\"\n",
    "tt.index('mm') #it returns a error if the given substring is not found in the string"
   ]
  },
  {
   "cell_type": "markdown",
   "id": "8dde84d4",
   "metadata": {},
   "source": [
    "### 12)rindex( ) :\n",
    "The rindex() method finds the last occurrence of the specified value.In simple words,It initiats the search from right to left.\n",
    "\n",
    "The rindex() method raises an exception if the value is not found.\n",
    "\n",
    "The rindex() method is almost the same as the rfind() method."
   ]
  },
  {
   "cell_type": "code",
   "execution_count": null,
   "id": "91571dc6",
   "metadata": {},
   "outputs": [],
   "source": [
    "help(str.rindex)"
   ]
  },
  {
   "cell_type": "code",
   "execution_count": null,
   "id": "4cd167e4",
   "metadata": {},
   "outputs": [],
   "source": [
    "tt =\"A skunk sat on a stump and thunk the stump stunk, but the stump thunk the skunk stunk\"\n",
    "tt.rindex('m')"
   ]
  },
  {
   "cell_type": "code",
   "execution_count": null,
   "id": "87c1aadd",
   "metadata": {},
   "outputs": [],
   "source": [
    "tt =\"A skunk sat on a stump and thunk the stump stunk, but the stump thunk the skunk stunk\"\n",
    "tt.rindex('stump')"
   ]
  },
  {
   "cell_type": "code",
   "execution_count": null,
   "id": "9341b137",
   "metadata": {},
   "outputs": [],
   "source": [
    "tt =\"A skunk sat on a stump and thunk the stump stunk, but the stump thunk the skunk stunk\"\n",
    "tt.rindex('mm') #it returns a error if the given substring is not found in the string"
   ]
  },
  {
   "cell_type": "markdown",
   "id": "83b2587e",
   "metadata": {},
   "source": [
    "### 13)partition( ) :\n",
    "The partition() method searches for a specified string, and splits the string into a tuple containing three elements.\n",
    "\n",
    "The first element contains the part before the specified string.\n",
    "\n",
    "The second element contains the specified string.\n",
    "\n",
    "The third element contains the part after the string.\n",
    "\n",
    "This method searches for the first occurrence of the specified string."
   ]
  },
  {
   "cell_type": "code",
   "execution_count": 33,
   "id": "103d73f5",
   "metadata": {},
   "outputs": [],
   "source": [
    "help(str.partition)"
   ]
  },
  {
   "cell_type": "code",
   "execution_count": 34,
   "id": "cc90693b",
   "metadata": {},
   "outputs": [
    {
     "data": {
      "text/plain": [
       "('indian cricke', 't', ' team')"
      ]
     },
     "execution_count": 34,
     "metadata": {},
     "output_type": "execute_result"
    }
   ],
   "source": [
    "cri = \"indian cricket team\"\n",
    "cri.partition('t')"
   ]
  },
  {
   "cell_type": "code",
   "execution_count": 35,
   "id": "2b9bf540",
   "metadata": {},
   "outputs": [
    {
     "data": {
      "text/plain": [
       "('indian ', 'cricket', ' team')"
      ]
     },
     "execution_count": 35,
     "metadata": {},
     "output_type": "execute_result"
    }
   ],
   "source": [
    "cri = \"indian cricket team\"\n",
    "cri.partition('cricket')"
   ]
  },
  {
   "cell_type": "code",
   "execution_count": 36,
   "id": "3aec46ca",
   "metadata": {},
   "outputs": [
    {
     "data": {
      "text/plain": [
       "('indian cricket team', '', '')"
      ]
     },
     "execution_count": 36,
     "metadata": {},
     "output_type": "execute_result"
    }
   ],
   "source": [
    "cri = \"indian cricket team\"\n",
    "cri.partition('l')"
   ]
  },
  {
   "cell_type": "markdown",
   "id": "71ad29ee",
   "metadata": {},
   "source": [
    "### 14)rpartition( ) :\n",
    "The rpartition() method searches for the last occurrence of a specified string, and splits the string into a tuple containing three elements.In simple words,It initiats the search from right to left.\n",
    "\n",
    "The first element contains the part before the specified string.\n",
    "\n",
    "The second element contains the specified string.\n",
    "\n",
    "The third element contains the part after the string."
   ]
  },
  {
   "cell_type": "code",
   "execution_count": 37,
   "id": "83281476",
   "metadata": {},
   "outputs": [
    {
     "name": "stdout",
     "output_type": "stream",
     "text": [
      "Help on method_descriptor:\n",
      "\n",
      "rpartition(self, sep, /)\n",
      "    Partition the string into three parts using the given separator.\n",
      "    \n",
      "    This will search for the separator in the string, starting at the end. If\n",
      "    the separator is found, returns a 3-tuple containing the part before the\n",
      "    separator, the separator itself, and the part after it.\n",
      "    \n",
      "    If the separator is not found, returns a 3-tuple containing two empty strings\n",
      "    and the original string.\n",
      "\n"
     ]
    }
   ],
   "source": [
    "help(str.rpartition)"
   ]
  },
  {
   "cell_type": "code",
   "execution_count": 38,
   "id": "075afdd5",
   "metadata": {},
   "outputs": [
    {
     "data": {
      "text/plain": [
       "('indian cricket ', 't', 'eam')"
      ]
     },
     "execution_count": 38,
     "metadata": {},
     "output_type": "execute_result"
    }
   ],
   "source": [
    "cri = \"indian cricket team\"\n",
    "cri.rpartition('t')"
   ]
  },
  {
   "cell_type": "code",
   "execution_count": 39,
   "id": "2e29576d",
   "metadata": {},
   "outputs": [
    {
     "data": {
      "text/plain": [
       "('indian cri', 'c', 'ket team')"
      ]
     },
     "execution_count": 39,
     "metadata": {},
     "output_type": "execute_result"
    }
   ],
   "source": [
    "cri = \"indian cricket team\"\n",
    "cri.rpartition('c')"
   ]
  },
  {
   "cell_type": "markdown",
   "id": "c6199a9d",
   "metadata": {},
   "source": [
    "### 15)split( ):\n",
    "The split() method splits a string into a list."
   ]
  },
  {
   "cell_type": "code",
   "execution_count": 1,
   "id": "d468b673",
   "metadata": {},
   "outputs": [
    {
     "name": "stdout",
     "output_type": "stream",
     "text": [
      "Help on method_descriptor:\n",
      "\n",
      "split(self, /, sep=None, maxsplit=-1)\n",
      "    Return a list of the substrings in the string, using sep as the separator string.\n",
      "    \n",
      "      sep\n",
      "        The separator used to split the string.\n",
      "    \n",
      "        When set to None (the default value), will split on any whitespace\n",
      "        character (including \\\\n \\\\r \\\\t \\\\f and spaces) and will discard\n",
      "        empty strings from the result.\n",
      "      maxsplit\n",
      "        Maximum number of splits (starting from the left).\n",
      "        -1 (the default value) means no limit.\n",
      "    \n",
      "    Note, str.split() is mainly useful for data that has been intentionally\n",
      "    delimited.  With natural text that includes punctuation, consider using\n",
      "    the regular expression module.\n",
      "\n"
     ]
    }
   ],
   "source": [
    "help(str.split)"
   ]
  },
  {
   "cell_type": "code",
   "execution_count": 2,
   "id": "3d0d5d05",
   "metadata": {},
   "outputs": [
    {
     "data": {
      "text/plain": [
       "['A skunk sat on a ',\n",
       " ' and thunk the ',\n",
       " ' stunk, but the ',\n",
       " ' thunk the skunk stunk']"
      ]
     },
     "execution_count": 2,
     "metadata": {},
     "output_type": "execute_result"
    }
   ],
   "source": [
    "tt =\"A skunk sat on a stump and thunk the stump stunk, but the stump thunk the skunk stunk\"\n",
    "tt.split('stump')"
   ]
  },
  {
   "cell_type": "code",
   "execution_count": 3,
   "id": "d738d9c7",
   "metadata": {},
   "outputs": [
    {
     "data": {
      "text/plain": [
       "['A',\n",
       " 'skunk',\n",
       " 'sat',\n",
       " 'on',\n",
       " 'a',\n",
       " 'stump',\n",
       " 'and',\n",
       " 'thunk',\n",
       " 'the',\n",
       " 'stump',\n",
       " 'stunk,',\n",
       " 'but',\n",
       " 'the',\n",
       " 'stump',\n",
       " 'thunk',\n",
       " 'the',\n",
       " 'skunk',\n",
       " 'stunk']"
      ]
     },
     "execution_count": 3,
     "metadata": {},
     "output_type": "execute_result"
    }
   ],
   "source": [
    "tt.split(' ')"
   ]
  },
  {
   "cell_type": "markdown",
   "id": "a776a39e",
   "metadata": {},
   "source": [
    "### 16)rsplit( ) :\n",
    "The rsplit() method splits a string into a list, starting from the right."
   ]
  },
  {
   "cell_type": "code",
   "execution_count": 4,
   "id": "206eb4f4",
   "metadata": {},
   "outputs": [
    {
     "name": "stdout",
     "output_type": "stream",
     "text": [
      "Help on method_descriptor:\n",
      "\n",
      "rsplit(self, /, sep=None, maxsplit=-1)\n",
      "    Return a list of the substrings in the string, using sep as the separator string.\n",
      "    \n",
      "      sep\n",
      "        The separator used to split the string.\n",
      "    \n",
      "        When set to None (the default value), will split on any whitespace\n",
      "        character (including \\\\n \\\\r \\\\t \\\\f and spaces) and will discard\n",
      "        empty strings from the result.\n",
      "      maxsplit\n",
      "        Maximum number of splits (starting from the left).\n",
      "        -1 (the default value) means no limit.\n",
      "    \n",
      "    Splitting starts at the end of the string and works to the front.\n",
      "\n"
     ]
    }
   ],
   "source": [
    "help(str.rsplit)"
   ]
  },
  {
   "cell_type": "code",
   "execution_count": 6,
   "id": "49bffaf2",
   "metadata": {},
   "outputs": [
    {
     "data": {
      "text/plain": [
       "['A skunk sat on a stump and thunk ',\n",
       " ' stump stunk, but ',\n",
       " ' stump thunk ',\n",
       " ' skunk stunk']"
      ]
     },
     "execution_count": 6,
     "metadata": {},
     "output_type": "execute_result"
    }
   ],
   "source": [
    "tt =\"A skunk sat on a stump and thunk the stump stunk, but the stump thunk the skunk stunk\"\n",
    "tt.rsplit('the')"
   ]
  },
  {
   "cell_type": "markdown",
   "id": "6dcb66ba",
   "metadata": {},
   "source": [
    "### 17)splitlines( ) :\n",
    "The splitlines() method splits a string into a list. The splitting is done at line breaks.\n",
    "\n",
    "string.splitlines(keeplinebreaks)\n",
    "\n",
    "keeplinebreaks-Optional. Specifies if the line breaks should be included (True), or not (False). Default value is False"
   ]
  },
  {
   "cell_type": "code",
   "execution_count": 7,
   "id": "e926ef41",
   "metadata": {},
   "outputs": [
    {
     "name": "stdout",
     "output_type": "stream",
     "text": [
      "Help on method_descriptor:\n",
      "\n",
      "splitlines(self, /, keepends=False)\n",
      "    Return a list of the lines in the string, breaking at line boundaries.\n",
      "    \n",
      "    Line breaks are not included in the resulting list unless keepends is given and\n",
      "    true.\n",
      "\n"
     ]
    }
   ],
   "source": [
    "help(str.splitlines)"
   ]
  },
  {
   "cell_type": "code",
   "execution_count": 15,
   "id": "d4638308",
   "metadata": {},
   "outputs": [
    {
     "data": {
      "text/plain": [
       "['A skunk sat on a stump and\\n',\n",
       " 'thunk the stump stunk,\\n',\n",
       " 'but the stump thunk \\n',\n",
       " 'the skunk stunk']"
      ]
     },
     "execution_count": 15,
     "metadata": {},
     "output_type": "execute_result"
    }
   ],
   "source": [
    "tt ='''A skunk sat on a stump and\n",
    "thunk the stump stunk,\n",
    "but the stump thunk \n",
    "the skunk stunk'''\n",
    "tt.splitlines(True)"
   ]
  },
  {
   "cell_type": "code",
   "execution_count": 16,
   "id": "275baf4e",
   "metadata": {},
   "outputs": [
    {
     "data": {
      "text/plain": [
       "['A skunk sat on a stump and',\n",
       " 'thunk the stump stunk,',\n",
       " 'but the stump thunk',\n",
       " 'the skunk stunk']"
      ]
     },
     "execution_count": 16,
     "metadata": {},
     "output_type": "execute_result"
    }
   ],
   "source": [
    "tt ='''A skunk sat on a stump and\n",
    "thunk the stump stunk,\n",
    "but the stump thunk\n",
    "the skunk stunk'''\n",
    "tt.splitlines(False)"
   ]
  },
  {
   "cell_type": "markdown",
   "id": "5e2650c0",
   "metadata": {},
   "source": [
    "### 18)isalpha( ) :\n",
    "The isalpha() method returns True if all the characters are alphabet letters (a-z).\n",
    "\n",
    "Example of characters that are not alphabet letters: (space)!#%&? etc.\n",
    "\n"
   ]
  },
  {
   "cell_type": "code",
   "execution_count": 18,
   "id": "d93f45b6",
   "metadata": {},
   "outputs": [
    {
     "name": "stdout",
     "output_type": "stream",
     "text": [
      "Help on method_descriptor:\n",
      "\n",
      "isalpha(self, /)\n",
      "    Return True if the string is an alphabetic string, False otherwise.\n",
      "    \n",
      "    A string is alphabetic if all characters in the string are alphabetic and there\n",
      "    is at least one character in the string.\n",
      "\n"
     ]
    }
   ],
   "source": [
    "help(str.isalpha)"
   ]
  },
  {
   "cell_type": "code",
   "execution_count": 29,
   "id": "8bfd0cc4",
   "metadata": {},
   "outputs": [
    {
     "data": {
      "text/plain": [
       "True"
      ]
     },
     "execution_count": 29,
     "metadata": {},
     "output_type": "execute_result"
    }
   ],
   "source": [
    "s='python'\n",
    "s.isalpha()"
   ]
  },
  {
   "cell_type": "code",
   "execution_count": 30,
   "id": "06ee35f6",
   "metadata": {},
   "outputs": [
    {
     "data": {
      "text/plain": [
       "False"
      ]
     },
     "execution_count": 30,
     "metadata": {},
     "output_type": "execute_result"
    }
   ],
   "source": [
    "s='python11'\n",
    "s.isalpha()"
   ]
  },
  {
   "cell_type": "markdown",
   "id": "5182e96f",
   "metadata": {},
   "source": [
    "### 19)isalnum( ) :\n",
    "The isalnum() method returns True if all the characters are alphanumeric, meaning alphabet letter (a-z) and numbers (0-9).\n",
    "Example of characters that are not alphanumeric: (space)!#%&? etc"
   ]
  },
  {
   "cell_type": "code",
   "execution_count": 31,
   "id": "e9da9baf",
   "metadata": {},
   "outputs": [
    {
     "name": "stdout",
     "output_type": "stream",
     "text": [
      "Help on method_descriptor:\n",
      "\n",
      "isalnum(self, /)\n",
      "    Return True if the string is an alpha-numeric string, False otherwise.\n",
      "    \n",
      "    A string is alpha-numeric if all characters in the string are alpha-numeric and\n",
      "    there is at least one character in the string.\n",
      "\n"
     ]
    }
   ],
   "source": [
    "help(str.isalnum)"
   ]
  },
  {
   "cell_type": "code",
   "execution_count": 33,
   "id": "262db7d3",
   "metadata": {},
   "outputs": [
    {
     "data": {
      "text/plain": [
       "True"
      ]
     },
     "execution_count": 33,
     "metadata": {},
     "output_type": "execute_result"
    }
   ],
   "source": [
    "s='python11'\n",
    "s.isalnum()"
   ]
  },
  {
   "cell_type": "code",
   "execution_count": 34,
   "id": "2e22d09c",
   "metadata": {},
   "outputs": [
    {
     "data": {
      "text/plain": [
       "False"
      ]
     },
     "execution_count": 34,
     "metadata": {},
     "output_type": "execute_result"
    }
   ],
   "source": [
    "s='what a beautiful flower!'\n",
    "s.isalnum()"
   ]
  },
  {
   "cell_type": "markdown",
   "id": "8b7e06b5",
   "metadata": {},
   "source": [
    "### 20)isascii( ) :\n",
    "The isascii() method returns True if all the characters are ascii characters  (a-z)."
   ]
  },
  {
   "cell_type": "code",
   "execution_count": 35,
   "id": "dba1b6c0",
   "metadata": {},
   "outputs": [
    {
     "name": "stdout",
     "output_type": "stream",
     "text": [
      "Help on method_descriptor:\n",
      "\n",
      "isascii(self, /)\n",
      "    Return True if all characters in the string are ASCII, False otherwise.\n",
      "    \n",
      "    ASCII characters have code points in the range U+0000-U+007F.\n",
      "    Empty string is ASCII too.\n",
      "\n"
     ]
    }
   ],
   "source": [
    "help(str.isascii)"
   ]
  },
  {
   "cell_type": "code",
   "execution_count": 37,
   "id": "1f798c8d",
   "metadata": {},
   "outputs": [
    {
     "data": {
      "text/plain": [
       "True"
      ]
     },
     "execution_count": 37,
     "metadata": {},
     "output_type": "execute_result"
    }
   ],
   "source": [
    "tt =\"A skunk sat on a stump and thunk the stump stunk, but the stump thunk the skunk stunk\"\n",
    "tt.isascii()"
   ]
  },
  {
   "cell_type": "code",
   "execution_count": 38,
   "id": "a43af620",
   "metadata": {},
   "outputs": [
    {
     "data": {
      "text/plain": [
       "False"
      ]
     },
     "execution_count": 38,
     "metadata": {},
     "output_type": "execute_result"
    }
   ],
   "source": [
    "a = \"ß is a German character\"\n",
    "a.isascii()"
   ]
  },
  {
   "cell_type": "markdown",
   "id": "92d637fc",
   "metadata": {},
   "source": [
    "### 21)isdecimal( ) :\n",
    "The isdecimal() method returns True if all the characters are decimals (0-9)."
   ]
  },
  {
   "cell_type": "code",
   "execution_count": 39,
   "id": "143ff167",
   "metadata": {},
   "outputs": [
    {
     "name": "stdout",
     "output_type": "stream",
     "text": [
      "Help on method_descriptor:\n",
      "\n",
      "isdecimal(self, /)\n",
      "    Return True if the string is a decimal string, False otherwise.\n",
      "    \n",
      "    A string is a decimal string if all characters in the string are decimal and\n",
      "    there is at least one character in the string.\n",
      "\n"
     ]
    }
   ],
   "source": [
    "help(str.isdecimal)"
   ]
  },
  {
   "cell_type": "code",
   "execution_count": 40,
   "id": "97f40dfa",
   "metadata": {},
   "outputs": [
    {
     "data": {
      "text/plain": [
       "False"
      ]
     },
     "execution_count": 40,
     "metadata": {},
     "output_type": "execute_result"
    }
   ],
   "source": [
    "numbers=\"1,2,3,4\"\n",
    "numbers.isdecimal()"
   ]
  },
  {
   "cell_type": "code",
   "execution_count": 46,
   "id": "5877c622",
   "metadata": {},
   "outputs": [
    {
     "data": {
      "text/plain": [
       "True"
      ]
     },
     "execution_count": 46,
     "metadata": {},
     "output_type": "execute_result"
    }
   ],
   "source": [
    "numbers='1'\n",
    "numbers.isdecimal()"
   ]
  },
  {
   "cell_type": "markdown",
   "id": "9b65de6b",
   "metadata": {},
   "source": [
    "### 22)isdigit( ) :\n",
    "The isdigit() method returns True if all the characters are digits, otherwise False."
   ]
  },
  {
   "cell_type": "code",
   "execution_count": 48,
   "id": "c8ef0d44",
   "metadata": {},
   "outputs": [
    {
     "name": "stdout",
     "output_type": "stream",
     "text": [
      "Help on method_descriptor:\n",
      "\n",
      "isdigit(self, /)\n",
      "    Return True if the string is a digit string, False otherwise.\n",
      "    \n",
      "    A string is a digit string if all characters in the string are digits and there\n",
      "    is at least one character in the string.\n",
      "\n"
     ]
    }
   ],
   "source": [
    "help(str.isdigit)"
   ]
  },
  {
   "cell_type": "code",
   "execution_count": 50,
   "id": "7e20b282",
   "metadata": {},
   "outputs": [
    {
     "data": {
      "text/plain": [
       "True"
      ]
     },
     "execution_count": 50,
     "metadata": {},
     "output_type": "execute_result"
    }
   ],
   "source": [
    "numbers=\"1234\"\n",
    "numbers.isdigit()"
   ]
  },
  {
   "cell_type": "code",
   "execution_count": 51,
   "id": "03d5f423",
   "metadata": {},
   "outputs": [
    {
     "data": {
      "text/plain": [
       "False"
      ]
     },
     "execution_count": 51,
     "metadata": {},
     "output_type": "execute_result"
    }
   ],
   "source": [
    "languages =\"telugu,hindi,english\"\n",
    "languages.isdigit()"
   ]
  },
  {
   "cell_type": "markdown",
   "id": "386015ce",
   "metadata": {},
   "source": [
    "### 23)isidentifier( ) :\n",
    "The isidentifier() method returns True if the string is a valid identifier, otherwise False.\n",
    "\n",
    "A string is considered a valid identifier if it only contains alphanumeric letters (a-z) and (0-9), or underscores (_). A valid identifier cannot start with a number, or contain any spaces."
   ]
  },
  {
   "cell_type": "code",
   "execution_count": 52,
   "id": "44848055",
   "metadata": {},
   "outputs": [
    {
     "name": "stdout",
     "output_type": "stream",
     "text": [
      "Help on method_descriptor:\n",
      "\n",
      "isidentifier(self, /)\n",
      "    Return True if the string is a valid Python identifier, False otherwise.\n",
      "    \n",
      "    Call keyword.iskeyword(s) to test whether string s is a reserved identifier,\n",
      "    such as \"def\" or \"class\".\n",
      "\n"
     ]
    }
   ],
   "source": [
    "help(str.isidentifier)"
   ]
  },
  {
   "cell_type": "code",
   "execution_count": 60,
   "id": "061fc433",
   "metadata": {},
   "outputs": [
    {
     "data": {
      "text/plain": [
       "True"
      ]
     },
     "execution_count": 60,
     "metadata": {},
     "output_type": "execute_result"
    }
   ],
   "source": [
    "a = \"indiancountry\"\n",
    "a.isidentifier()"
   ]
  },
  {
   "cell_type": "code",
   "execution_count": 55,
   "id": "1ce3e8d1",
   "metadata": {},
   "outputs": [
    {
     "data": {
      "text/plain": [
       "True"
      ]
     },
     "execution_count": 55,
     "metadata": {},
     "output_type": "execute_result"
    }
   ],
   "source": [
    "b = \"viratkohli18\"\n",
    "b.isidentifier()"
   ]
  },
  {
   "cell_type": "code",
   "execution_count": 56,
   "id": "446e0692",
   "metadata": {},
   "outputs": [
    {
     "data": {
      "text/plain": [
       "False"
      ]
     },
     "execution_count": 56,
     "metadata": {},
     "output_type": "execute_result"
    }
   ],
   "source": [
    "c = \"1moon\"\n",
    "c.isidentifier()"
   ]
  },
  {
   "cell_type": "code",
   "execution_count": 58,
   "id": "e0638115",
   "metadata": {},
   "outputs": [
    {
     "data": {
      "text/plain": [
       "False"
      ]
     },
     "execution_count": 58,
     "metadata": {},
     "output_type": "execute_result"
    }
   ],
   "source": [
    "d = \"the king\"\n",
    "d.isidentifier()"
   ]
  },
  {
   "cell_type": "markdown",
   "id": "73225e24",
   "metadata": {},
   "source": [
    "### 24)islower( ) :\n",
    "The islower() method returns True if all the characters are in lower case, otherwise False.\n",
    "\n",
    "Check if all the characters in the text are in lower case:"
   ]
  },
  {
   "cell_type": "code",
   "execution_count": 61,
   "id": "4ca2304b",
   "metadata": {},
   "outputs": [
    {
     "name": "stdout",
     "output_type": "stream",
     "text": [
      "Help on method_descriptor:\n",
      "\n",
      "islower(self, /)\n",
      "    Return True if the string is a lowercase string, False otherwise.\n",
      "    \n",
      "    A string is lowercase if all cased characters in the string are lowercase and\n",
      "    there is at least one cased character in the string.\n",
      "\n"
     ]
    }
   ],
   "source": [
    "help(str.islower)"
   ]
  },
  {
   "cell_type": "code",
   "execution_count": 63,
   "id": "10b58c55",
   "metadata": {},
   "outputs": [
    {
     "data": {
      "text/plain": [
       "True"
      ]
     },
     "execution_count": 63,
     "metadata": {},
     "output_type": "execute_result"
    }
   ],
   "source": [
    "x = \"data science\"\n",
    "x.islower()"
   ]
  },
  {
   "cell_type": "code",
   "execution_count": 64,
   "id": "7aec5fe1",
   "metadata": {},
   "outputs": [
    {
     "data": {
      "text/plain": [
       "False"
      ]
     },
     "execution_count": 64,
     "metadata": {},
     "output_type": "execute_result"
    }
   ],
   "source": [
    "x = \"Data Science\"\n",
    "x.islower()"
   ]
  },
  {
   "cell_type": "markdown",
   "id": "4db1a225",
   "metadata": {},
   "source": [
    "### 25)isupper( ) :\n",
    "The isupper() method returns True if all the characters are in upper case, otherwise False.\n",
    "\n",
    "Check if all the characters in the text are in upper case:"
   ]
  },
  {
   "cell_type": "code",
   "execution_count": 65,
   "id": "f3af1720",
   "metadata": {},
   "outputs": [
    {
     "name": "stdout",
     "output_type": "stream",
     "text": [
      "Help on method_descriptor:\n",
      "\n",
      "isupper(self, /)\n",
      "    Return True if the string is an uppercase string, False otherwise.\n",
      "    \n",
      "    A string is uppercase if all cased characters in the string are uppercase and\n",
      "    there is at least one cased character in the string.\n",
      "\n"
     ]
    }
   ],
   "source": [
    "help(str.isupper)"
   ]
  },
  {
   "cell_type": "code",
   "execution_count": 66,
   "id": "b2c8357b",
   "metadata": {},
   "outputs": [
    {
     "data": {
      "text/plain": [
       "True"
      ]
     },
     "execution_count": 66,
     "metadata": {},
     "output_type": "execute_result"
    }
   ],
   "source": [
    "x = \"PYTHAGORAS THEOREM\"\n",
    "x.isupper()"
   ]
  },
  {
   "cell_type": "code",
   "execution_count": 68,
   "id": "4dae5190",
   "metadata": {},
   "outputs": [
    {
     "data": {
      "text/plain": [
       "False"
      ]
     },
     "execution_count": 68,
     "metadata": {},
     "output_type": "execute_result"
    }
   ],
   "source": [
    "x = 'pythagoras theorem'\n",
    "x.isupper()"
   ]
  },
  {
   "cell_type": "markdown",
   "id": "ccd7d33c",
   "metadata": {},
   "source": [
    "### 26)isnumeric( ):\n",
    "The isnumeric() method returns True if all the characters are numeric (0-9), otherwise False.\n",
    "\n",
    "Exponents, like ² and ¾ are also considered to be numeric values.\n",
    "\n",
    "\"-1\" and \"1.5\" are NOT considered numeric values, because all the characters in the string must be numeric, and the - and the . are not.\n",
    "\n"
   ]
  },
  {
   "cell_type": "code",
   "execution_count": 1,
   "id": "ce6a4eb5",
   "metadata": {},
   "outputs": [
    {
     "name": "stdout",
     "output_type": "stream",
     "text": [
      "Help on method_descriptor:\n",
      "\n",
      "isnumeric(self, /)\n",
      "    Return True if the string is a numeric string, False otherwise.\n",
      "    \n",
      "    A string is numeric if all characters in the string are numeric and there is at\n",
      "    least one character in the string.\n",
      "\n"
     ]
    }
   ],
   "source": [
    "help(str.isnumeric)"
   ]
  },
  {
   "cell_type": "code",
   "execution_count": 2,
   "id": "0b691301",
   "metadata": {},
   "outputs": [
    {
     "data": {
      "text/plain": [
       "True"
      ]
     },
     "execution_count": 2,
     "metadata": {},
     "output_type": "execute_result"
    }
   ],
   "source": [
    "x = \"12345\"\n",
    "x.isnumeric()"
   ]
  },
  {
   "cell_type": "code",
   "execution_count": 4,
   "id": "7a91bf01",
   "metadata": {},
   "outputs": [
    {
     "data": {
      "text/plain": [
       "False"
      ]
     },
     "execution_count": 4,
     "metadata": {},
     "output_type": "execute_result"
    }
   ],
   "source": [
    "x = \"6.5\"\n",
    "x.isnumeric()"
   ]
  },
  {
   "cell_type": "markdown",
   "id": "fc097c79",
   "metadata": {},
   "source": [
    "### 27)isprintable( ) :\n",
    "The isprintable() method returns True if all the characters are printable, otherwise False.\n",
    "\n",
    "Example of none printable character can be carriage return and line feed.\n",
    "\n"
   ]
  },
  {
   "cell_type": "code",
   "execution_count": 5,
   "id": "a3dc748b",
   "metadata": {},
   "outputs": [
    {
     "name": "stdout",
     "output_type": "stream",
     "text": [
      "Help on method_descriptor:\n",
      "\n",
      "isprintable(self, /)\n",
      "    Return True if the string is printable, False otherwise.\n",
      "    \n",
      "    A string is printable if all of its characters are considered printable in\n",
      "    repr() or if it is empty.\n",
      "\n"
     ]
    }
   ],
   "source": [
    "help(str.isprintable)"
   ]
  },
  {
   "cell_type": "code",
   "execution_count": 6,
   "id": "573e4a86",
   "metadata": {},
   "outputs": [
    {
     "data": {
      "text/plain": [
       "True"
      ]
     },
     "execution_count": 6,
     "metadata": {},
     "output_type": "execute_result"
    }
   ],
   "source": [
    "x = \"hello!#\"\n",
    "x.isprintable()"
   ]
  },
  {
   "cell_type": "code",
   "execution_count": 8,
   "id": "aee59766",
   "metadata": {},
   "outputs": [
    {
     "data": {
      "text/plain": [
       "False"
      ]
     },
     "execution_count": 8,
     "metadata": {},
     "output_type": "execute_result"
    }
   ],
   "source": [
    "x = \"hello\\n\"\n",
    "x.isprintable()"
   ]
  },
  {
   "cell_type": "markdown",
   "id": "83a08b7a",
   "metadata": {},
   "source": [
    "### 28)isspace( ) :\n",
    "The isprintable() method returns True if all the characters are printable, otherwise False.\n",
    "\n",
    "Example of none printable character can be carriage return and line feed.\n",
    "\n",
    "Check if all the characters in the text are whitespaces:\n",
    "\n"
   ]
  },
  {
   "cell_type": "code",
   "execution_count": 10,
   "id": "3e4bdbb2",
   "metadata": {},
   "outputs": [
    {
     "name": "stdout",
     "output_type": "stream",
     "text": [
      "Help on method_descriptor:\n",
      "\n",
      "isspace(self, /)\n",
      "    Return True if the string is a whitespace string, False otherwise.\n",
      "    \n",
      "    A string is whitespace if all characters in the string are whitespace and there\n",
      "    is at least one character in the string.\n",
      "\n"
     ]
    }
   ],
   "source": [
    "help(str.isspace)"
   ]
  },
  {
   "cell_type": "code",
   "execution_count": 11,
   "id": "e5cf5a85",
   "metadata": {},
   "outputs": [
    {
     "data": {
      "text/plain": [
       "True"
      ]
     },
     "execution_count": 11,
     "metadata": {},
     "output_type": "execute_result"
    }
   ],
   "source": [
    "x = \"   \"\n",
    "x.isspace()"
   ]
  },
  {
   "cell_type": "code",
   "execution_count": 12,
   "id": "ee19b330",
   "metadata": {},
   "outputs": [
    {
     "data": {
      "text/plain": [
       "False"
      ]
     },
     "execution_count": 12,
     "metadata": {},
     "output_type": "execute_result"
    }
   ],
   "source": [
    "x = \"  py  \"\n",
    "x.isspace()"
   ]
  },
  {
   "cell_type": "markdown",
   "id": "73064d88",
   "metadata": {},
   "source": [
    "### 29)istitle( ) :\n",
    "The istitle() method returns True if all words in a text start with a upper case letter, AND the rest of the word are lower case letters, otherwise False.\n",
    "\n",
    "Symbols and numbers are ignored.\n",
    "\n",
    "Check if each word start with an upper case letter:"
   ]
  },
  {
   "cell_type": "code",
   "execution_count": 14,
   "id": "92f51e13",
   "metadata": {},
   "outputs": [
    {
     "name": "stdout",
     "output_type": "stream",
     "text": [
      "Help on method_descriptor:\n",
      "\n",
      "istitle(self, /)\n",
      "    Return True if the string is a title-cased string, False otherwise.\n",
      "    \n",
      "    In a title-cased string, upper- and title-case characters may only\n",
      "    follow uncased characters and lowercase characters only cased ones.\n",
      "\n"
     ]
    }
   ],
   "source": [
    "help(str.istitle)"
   ]
  },
  {
   "cell_type": "code",
   "execution_count": 15,
   "id": "43e2b90a",
   "metadata": {},
   "outputs": [
    {
     "name": "stdout",
     "output_type": "stream",
     "text": [
      "True\n"
     ]
    }
   ],
   "source": [
    "txt = \"Hello, And Welcome To My World!\"\n",
    "\n",
    "x = txt.istitle()\n",
    "\n",
    "print(x)"
   ]
  },
  {
   "cell_type": "code",
   "execution_count": 19,
   "id": "7c28a319",
   "metadata": {},
   "outputs": [
    {
     "data": {
      "text/plain": [
       "False"
      ]
     },
     "execution_count": 19,
     "metadata": {},
     "output_type": "execute_result"
    }
   ],
   "source": [
    "a = \"HELLO, AND WELCOME TO MY WORLD\"\n",
    "a.istitle()"
   ]
  },
  {
   "cell_type": "code",
   "execution_count": 17,
   "id": "4e093a6e",
   "metadata": {},
   "outputs": [
    {
     "data": {
      "text/plain": [
       "True"
      ]
     },
     "execution_count": 17,
     "metadata": {},
     "output_type": "execute_result"
    }
   ],
   "source": [
    "c = \"22 Names\"\n",
    "c.istitle()"
   ]
  },
  {
   "cell_type": "code",
   "execution_count": 18,
   "id": "014155f8",
   "metadata": {},
   "outputs": [
    {
     "data": {
      "text/plain": [
       "True"
      ]
     },
     "execution_count": 18,
     "metadata": {},
     "output_type": "execute_result"
    }
   ],
   "source": [
    "d = \"This Is %'!?\"\n",
    "d.istitle()"
   ]
  }
 ],
 "metadata": {
  "kernelspec": {
   "display_name": "Python 3 (ipykernel)",
   "language": "python",
   "name": "python3"
  },
  "language_info": {
   "codemirror_mode": {
    "name": "ipython",
    "version": 3
   },
   "file_extension": ".py",
   "mimetype": "text/x-python",
   "name": "python",
   "nbconvert_exporter": "python",
   "pygments_lexer": "ipython3",
   "version": "3.11.3"
  }
 },
 "nbformat": 4,
 "nbformat_minor": 5
}
