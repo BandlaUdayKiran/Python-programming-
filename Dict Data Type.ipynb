{
 "cells": [
  {
   "cell_type": "markdown",
   "id": "442c60bd",
   "metadata": {},
   "source": [
    "# Dictionary:\n",
    "A python dictionary is a collection of key-value pairs where each key is associated with a value. A key in the key-value pair must be immutable. A value in the key-value pair can be any data type like a string, a list, a tuple or even another dictionary.\n",
    "\n",
    "Dictionaries are written with curly brackets, and used to store data values in key:value pairs.\n",
    "\n",
    "Dictionary items are ordered, changeable, and does not allow duplicates.\n",
    "\n",
    "When we say that dictionaries are ordered, it means that the items have a defined order, and that order will not change.\n",
    "\n",
    "Dictionaries are changeable, meaning that we can change, add or remove items after the dictionary has been created and does not allow duplicates."
   ]
  },
  {
   "cell_type": "markdown",
   "id": "0bbf9fc9",
   "metadata": {},
   "source": [
    "### Create a Dictionary:\n",
    "We create dictionaries by placing key:value pairs inside curly brackets {}, separated by commas. "
   ]
  },
  {
   "cell_type": "code",
   "execution_count": 16,
   "id": "60816b74",
   "metadata": {},
   "outputs": [],
   "source": [
    "person = {\"name\":\"Tom\",\n",
    "          \"age\":25,\n",
    "          \"city\":\"Hyderabad\",\n",
    "          \"role\":\"Data scientist\",\n",
    "          \"email\":\"tom@gmail.com\"\n",
    "          }"
   ]
  },
  {
   "cell_type": "code",
   "execution_count": 2,
   "id": "c61daf85",
   "metadata": {},
   "outputs": [
    {
     "data": {
      "text/plain": [
       "{'name': 'Tom',\n",
       " 'age': 25,\n",
       " 'city': 'Hyderabad',\n",
       " 'role': 'Data scientist',\n",
       " 'email': 'tom@gmail.com'}"
      ]
     },
     "execution_count": 2,
     "metadata": {},
     "output_type": "execute_result"
    }
   ],
   "source": [
    "person"
   ]
  },
  {
   "cell_type": "markdown",
   "id": "fc59bbb7",
   "metadata": {},
   "source": [
    "### The dict() Constructor:\n",
    "It is also possible to use the dict() constructor to make a dictionary.\n",
    "\n",
    "Using the dict() method to make a dictionary:"
   ]
  },
  {
   "cell_type": "code",
   "execution_count": 3,
   "id": "d8e0824d",
   "metadata": {},
   "outputs": [],
   "source": [
    "person = dict(name = \"John\", age = 36, country = \"Norway\")"
   ]
  },
  {
   "cell_type": "code",
   "execution_count": 4,
   "id": "d336f0e9",
   "metadata": {},
   "outputs": [
    {
     "data": {
      "text/plain": [
       "{'name': 'John', 'age': 36, 'country': 'Norway'}"
      ]
     },
     "execution_count": 4,
     "metadata": {},
     "output_type": "execute_result"
    }
   ],
   "source": [
    "person"
   ]
  },
  {
   "cell_type": "markdown",
   "id": "467f36e6",
   "metadata": {},
   "source": [
    "### type()\n",
    "From Python's perspective, dictionaries are defined as objects with the data type 'dict':"
   ]
  },
  {
   "cell_type": "code",
   "execution_count": 5,
   "id": "b649e99d",
   "metadata": {},
   "outputs": [
    {
     "name": "stdout",
     "output_type": "stream",
     "text": [
      "<class 'dict'>\n"
     ]
    }
   ],
   "source": [
    "print(type(person))"
   ]
  },
  {
   "cell_type": "markdown",
   "id": "bd84d57e",
   "metadata": {},
   "source": [
    "### Dictionary Items - Data Types\n",
    "The values in dictionary items can be of any data type:"
   ]
  },
  {
   "cell_type": "code",
   "execution_count": 6,
   "id": "777feb87",
   "metadata": {},
   "outputs": [],
   "source": [
    "car = {\"brand\": \"Ford\",\n",
    "       \"electric\": False,\n",
    "       \"year\": 1964,\n",
    "       \"colors\": [\"red\", \"white\", \"blue\"]}"
   ]
  },
  {
   "cell_type": "code",
   "execution_count": 7,
   "id": "688dc73f",
   "metadata": {},
   "outputs": [
    {
     "data": {
      "text/plain": [
       "{'brand': 'Ford',\n",
       " 'electric': False,\n",
       " 'year': 1964,\n",
       " 'colors': ['red', 'white', 'blue']}"
      ]
     },
     "execution_count": 7,
     "metadata": {},
     "output_type": "execute_result"
    }
   ],
   "source": [
    "car"
   ]
  },
  {
   "cell_type": "markdown",
   "id": "c10421a5",
   "metadata": {},
   "source": [
    "### Duplicates Not Allowed\n",
    "Dictionaries cannot have two items with the same key:"
   ]
  },
  {
   "cell_type": "code",
   "execution_count": 8,
   "id": "4546cd82",
   "metadata": {},
   "outputs": [],
   "source": [
    "x = { 'a' : {4,5,6},\n",
    "      'b' : [1,2,3],\n",
    "      'a' : [40,50,60],\n",
    "      'b' : [10,20,30]} #here the 'a' and 'b' keys are repeated two times."
   ]
  },
  {
   "cell_type": "code",
   "execution_count": 9,
   "id": "7d60388e",
   "metadata": {},
   "outputs": [
    {
     "data": {
      "text/plain": [
       "{'a': [40, 50, 60], 'b': [10, 20, 30]}"
      ]
     },
     "execution_count": 9,
     "metadata": {},
     "output_type": "execute_result"
    }
   ],
   "source": [
    "x"
   ]
  },
  {
   "cell_type": "markdown",
   "id": "53ad228b",
   "metadata": {},
   "source": [
    "### Nested dictionary:\n"
   ]
  },
  {
   "cell_type": "code",
   "execution_count": 10,
   "id": "dd542350",
   "metadata": {},
   "outputs": [],
   "source": [
    "x = {'a':{'a':10,\n",
    "          'b':20,\n",
    "          'c':30},\n",
    "     'b':{1,2,3}}"
   ]
  },
  {
   "cell_type": "code",
   "execution_count": 11,
   "id": "0f764593",
   "metadata": {},
   "outputs": [
    {
     "data": {
      "text/plain": [
       "{'a': {'a': 10, 'b': 20, 'c': 30}, 'b': {1, 2, 3}}"
      ]
     },
     "execution_count": 11,
     "metadata": {},
     "output_type": "execute_result"
    }
   ],
   "source": [
    "x"
   ]
  },
  {
   "cell_type": "markdown",
   "id": "9323c54b",
   "metadata": {},
   "source": [
    "### Accessing dict items:\n",
    "You can access the items of a dictionary by referring to its keyname, inside square brackets."
   ]
  },
  {
   "cell_type": "code",
   "execution_count": 12,
   "id": "e511512e",
   "metadata": {},
   "outputs": [
    {
     "data": {
      "text/plain": [
       "{'name': 'Tom',\n",
       " 'age': 25,\n",
       " 'city': 'Hyderabad',\n",
       " 'role': 'Data scientist',\n",
       " 'email': 'tom@gmail.com'}"
      ]
     },
     "execution_count": 12,
     "metadata": {},
     "output_type": "execute_result"
    }
   ],
   "source": [
    "person = {\"name\":\"Tom\",\n",
    "          \"age\":25,\n",
    "          \"city\":\"Hyderabad\",\n",
    "          \"role\":\"Data scientist\",\n",
    "          \"email\":\"tom@gmail.com\"\n",
    "          }\n",
    "person"
   ]
  },
  {
   "cell_type": "code",
   "execution_count": 13,
   "id": "a18d59fa",
   "metadata": {},
   "outputs": [
    {
     "data": {
      "text/plain": [
       "'Tom'"
      ]
     },
     "execution_count": 13,
     "metadata": {},
     "output_type": "execute_result"
    }
   ],
   "source": [
    "person[\"name\"]"
   ]
  },
  {
   "cell_type": "markdown",
   "id": "c16a5af8",
   "metadata": {},
   "source": [
    "### Methods in Dictionary:"
   ]
  },
  {
   "cell_type": "code",
   "execution_count": 14,
   "id": "7513f854",
   "metadata": {},
   "outputs": [
    {
     "data": {
      "text/plain": [
       "['__class__',\n",
       " '__class_getitem__',\n",
       " '__contains__',\n",
       " '__delattr__',\n",
       " '__delitem__',\n",
       " '__dir__',\n",
       " '__doc__',\n",
       " '__eq__',\n",
       " '__format__',\n",
       " '__ge__',\n",
       " '__getattribute__',\n",
       " '__getitem__',\n",
       " '__getstate__',\n",
       " '__gt__',\n",
       " '__hash__',\n",
       " '__init__',\n",
       " '__init_subclass__',\n",
       " '__ior__',\n",
       " '__iter__',\n",
       " '__le__',\n",
       " '__len__',\n",
       " '__lt__',\n",
       " '__ne__',\n",
       " '__new__',\n",
       " '__or__',\n",
       " '__reduce__',\n",
       " '__reduce_ex__',\n",
       " '__repr__',\n",
       " '__reversed__',\n",
       " '__ror__',\n",
       " '__setattr__',\n",
       " '__setitem__',\n",
       " '__sizeof__',\n",
       " '__str__',\n",
       " '__subclasshook__',\n",
       " 'clear',\n",
       " 'copy',\n",
       " 'fromkeys',\n",
       " 'get',\n",
       " 'items',\n",
       " 'keys',\n",
       " 'pop',\n",
       " 'popitem',\n",
       " 'setdefault',\n",
       " 'update',\n",
       " 'values']"
      ]
     },
     "execution_count": 14,
     "metadata": {},
     "output_type": "execute_result"
    }
   ],
   "source": [
    "dir(dict)"
   ]
  },
  {
   "cell_type": "code",
   "execution_count": 15,
   "id": "b550a7bf",
   "metadata": {},
   "outputs": [],
   "source": [
    "z = ['__class__',\n",
    " '__class_getitem__',\n",
    " '__contains__',\n",
    " '__delattr__',\n",
    " '__delitem__',\n",
    " '__dir__',\n",
    " '__doc__',\n",
    " '__eq__',\n",
    " '__format__',\n",
    " '__ge__',\n",
    " '__getattribute__',\n",
    " '__getitem__',\n",
    " '__getstate__',\n",
    " '__gt__',\n",
    " '__hash__',\n",
    " '__init__',\n",
    " '__init_subclass__',\n",
    " '__ior__',\n",
    " '__iter__',\n",
    " '__le__',\n",
    " '__len__',\n",
    " '__lt__',\n",
    " '__ne__',\n",
    " '__new__',\n",
    " '__or__',\n",
    " '__reduce__',\n",
    " '__reduce_ex__',\n",
    " '__repr__',\n",
    " '__reversed__',\n",
    " '__ror__',\n",
    " '__setattr__',\n",
    " '__setitem__',\n",
    " '__sizeof__',\n",
    " '__str__',\n",
    " '__subclasshook__',\n",
    " 'clear',\n",
    " 'copy',\n",
    " 'fromkeys',\n",
    " 'get',\n",
    " 'items',\n",
    " 'keys',\n",
    " 'pop',\n",
    " 'popitem',\n",
    " 'setdefault',\n",
    " 'update',\n",
    " 'values']"
   ]
  },
  {
   "cell_type": "code",
   "execution_count": 16,
   "id": "874f8641",
   "metadata": {},
   "outputs": [
    {
     "data": {
      "text/plain": [
       "46"
      ]
     },
     "execution_count": 16,
     "metadata": {},
     "output_type": "execute_result"
    }
   ],
   "source": [
    "len(z)"
   ]
  },
  {
   "cell_type": "markdown",
   "id": "d07e37f1",
   "metadata": {},
   "source": [
    "### 1)get( ) :\n",
    "The get() method returns the value of the specified key in the dictionary."
   ]
  },
  {
   "cell_type": "code",
   "execution_count": 24,
   "id": "9e592e13",
   "metadata": {},
   "outputs": [
    {
     "name": "stdout",
     "output_type": "stream",
     "text": [
      "Help on method_descriptor:\n",
      "\n",
      "get(self, key, default=None, /)\n",
      "    Return the value for key if key is in the dictionary, else default.\n",
      "\n"
     ]
    }
   ],
   "source": [
    "help(dict.get)"
   ]
  },
  {
   "cell_type": "code",
   "execution_count": 18,
   "id": "42783065",
   "metadata": {},
   "outputs": [
    {
     "data": {
      "text/plain": [
       "{'name': 'Tom',\n",
       " 'age': 25,\n",
       " 'city': 'Hyderabad',\n",
       " 'role': 'Data scientist',\n",
       " 'email': 'tom@gmail.com'}"
      ]
     },
     "execution_count": 18,
     "metadata": {},
     "output_type": "execute_result"
    }
   ],
   "source": [
    "person "
   ]
  },
  {
   "cell_type": "code",
   "execution_count": 19,
   "id": "7b890175",
   "metadata": {},
   "outputs": [
    {
     "data": {
      "text/plain": [
       "'Tom'"
      ]
     },
     "execution_count": 19,
     "metadata": {},
     "output_type": "execute_result"
    }
   ],
   "source": [
    "person.get('name')"
   ]
  },
  {
   "cell_type": "markdown",
   "id": "72b9cbb1",
   "metadata": {},
   "source": [
    "### get() vs [ ] \n",
    "Both are used to access the keys in dictionary. The method key() returns no error when the key is not found but whereas the [ ] returns error."
   ]
  },
  {
   "cell_type": "code",
   "execution_count": 20,
   "id": "10c10e80",
   "metadata": {},
   "outputs": [],
   "source": [
    "x={'a':10,\n",
    "   'b':20,\n",
    "   'c':30}"
   ]
  },
  {
   "cell_type": "code",
   "execution_count": 22,
   "id": "49e347e8",
   "metadata": {},
   "outputs": [
    {
     "name": "stdout",
     "output_type": "stream",
     "text": [
      "None\n"
     ]
    }
   ],
   "source": [
    "print(x.get('zz'))"
   ]
  },
  {
   "cell_type": "code",
   "execution_count": 23,
   "id": "84672543",
   "metadata": {},
   "outputs": [
    {
     "ename": "KeyError",
     "evalue": "'zz'",
     "output_type": "error",
     "traceback": [
      "\u001b[1;31m---------------------------------------------------------------------------\u001b[0m",
      "\u001b[1;31mKeyError\u001b[0m                                  Traceback (most recent call last)",
      "Cell \u001b[1;32mIn[23], line 1\u001b[0m\n\u001b[1;32m----> 1\u001b[0m x[\u001b[38;5;124m'\u001b[39m\u001b[38;5;124mzz\u001b[39m\u001b[38;5;124m'\u001b[39m]\n",
      "\u001b[1;31mKeyError\u001b[0m: 'zz'"
     ]
    }
   ],
   "source": [
    "x['zz']"
   ]
  },
  {
   "cell_type": "markdown",
   "id": "fdfdcea6",
   "metadata": {},
   "source": [
    "### 2)update( ) :\n",
    "The update() method inserts the specified items to the dictionary.\n",
    "\n",
    "The specified items can be a dictionary, or an iterable object with key value pairs."
   ]
  },
  {
   "cell_type": "code",
   "execution_count": 25,
   "id": "151930d7",
   "metadata": {},
   "outputs": [
    {
     "name": "stdout",
     "output_type": "stream",
     "text": [
      "Help on method_descriptor:\n",
      "\n",
      "update(...)\n",
      "    D.update([E, ]**F) -> None.  Update D from dict/iterable E and F.\n",
      "    If E is present and has a .keys() method, then does:  for k in E: D[k] = E[k]\n",
      "    If E is present and lacks a .keys() method, then does:  for k, v in E: D[k] = v\n",
      "    In either case, this is followed by: for k in F:  D[k] = F[k]\n",
      "\n"
     ]
    }
   ],
   "source": [
    "help(dict.update)"
   ]
  },
  {
   "cell_type": "code",
   "execution_count": 26,
   "id": "c8b1cef8",
   "metadata": {},
   "outputs": [],
   "source": [
    "x={'a':10,\n",
    "   'b':20,\n",
    "   'c':30}"
   ]
  },
  {
   "cell_type": "code",
   "execution_count": 27,
   "id": "8cd7b244",
   "metadata": {},
   "outputs": [],
   "source": [
    "x.update({'d':40,'e':50,'f':60})"
   ]
  },
  {
   "cell_type": "code",
   "execution_count": 28,
   "id": "850f9185",
   "metadata": {},
   "outputs": [
    {
     "data": {
      "text/plain": [
       "{'a': 10, 'b': 20, 'c': 30, 'd': 40, 'e': 50, 'f': 60}"
      ]
     },
     "execution_count": 28,
     "metadata": {},
     "output_type": "execute_result"
    }
   ],
   "source": [
    "x"
   ]
  },
  {
   "cell_type": "code",
   "execution_count": 29,
   "id": "8889adca",
   "metadata": {},
   "outputs": [],
   "source": [
    "x.update([(1,2),(3,4)])"
   ]
  },
  {
   "cell_type": "code",
   "execution_count": 30,
   "id": "5d6eaee8",
   "metadata": {},
   "outputs": [
    {
     "data": {
      "text/plain": [
       "{'a': 10, 'b': 20, 'c': 30, 'd': 40, 'e': 50, 'f': 60, 1: 2, 3: 4}"
      ]
     },
     "execution_count": 30,
     "metadata": {},
     "output_type": "execute_result"
    }
   ],
   "source": [
    "x"
   ]
  },
  {
   "cell_type": "markdown",
   "id": "7f7c0285",
   "metadata": {},
   "source": [
    "### 3)pop( ) :\n",
    "The pop() method removes the specified item from the dictionary.\n",
    "\n",
    "The value of the removed item is the return value of the pop() method."
   ]
  },
  {
   "cell_type": "code",
   "execution_count": 32,
   "id": "9987af8d",
   "metadata": {},
   "outputs": [
    {
     "name": "stdout",
     "output_type": "stream",
     "text": [
      "Help on method_descriptor:\n",
      "\n",
      "pop(...)\n",
      "    D.pop(k[,d]) -> v, remove specified key and return the corresponding value.\n",
      "    \n",
      "    If the key is not found, return the default if given; otherwise,\n",
      "    raise a KeyError.\n",
      "\n"
     ]
    }
   ],
   "source": [
    "help(dict.pop)"
   ]
  },
  {
   "cell_type": "code",
   "execution_count": 33,
   "id": "bdb94e49",
   "metadata": {},
   "outputs": [
    {
     "data": {
      "text/plain": [
       "2"
      ]
     },
     "execution_count": 33,
     "metadata": {},
     "output_type": "execute_result"
    }
   ],
   "source": [
    "x.pop(1) #here 1 is the key and its corresponding value is also removed"
   ]
  },
  {
   "cell_type": "code",
   "execution_count": 34,
   "id": "cb8dc615",
   "metadata": {},
   "outputs": [
    {
     "data": {
      "text/plain": [
       "{'a': 10, 'b': 20, 'c': 30, 'd': 40, 'e': 50, 'f': 60, 3: 4}"
      ]
     },
     "execution_count": 34,
     "metadata": {},
     "output_type": "execute_result"
    }
   ],
   "source": [
    "x"
   ]
  },
  {
   "cell_type": "markdown",
   "id": "68dc6f43",
   "metadata": {},
   "source": [
    "### 4)popitem( ) :\n",
    "The popitem() method removes the item that was last inserted into the dictionary."
   ]
  },
  {
   "cell_type": "code",
   "execution_count": 37,
   "id": "b876a1d2",
   "metadata": {},
   "outputs": [
    {
     "name": "stdout",
     "output_type": "stream",
     "text": [
      "Help on method_descriptor:\n",
      "\n",
      "popitem(self, /)\n",
      "    Remove and return a (key, value) pair as a 2-tuple.\n",
      "    \n",
      "    Pairs are returned in LIFO (last-in, first-out) order.\n",
      "    Raises KeyError if the dict is empty.\n",
      "\n"
     ]
    }
   ],
   "source": [
    "help(dict.popitem)"
   ]
  },
  {
   "cell_type": "code",
   "execution_count": 35,
   "id": "6d7338bb",
   "metadata": {},
   "outputs": [
    {
     "data": {
      "text/plain": [
       "(3, 4)"
      ]
     },
     "execution_count": 35,
     "metadata": {},
     "output_type": "execute_result"
    }
   ],
   "source": [
    "x.popitem() #it removes the last key and value pair"
   ]
  },
  {
   "cell_type": "code",
   "execution_count": 36,
   "id": "30ee24d1",
   "metadata": {},
   "outputs": [
    {
     "data": {
      "text/plain": [
       "{'a': 10, 'b': 20, 'c': 30, 'd': 40, 'e': 50, 'f': 60}"
      ]
     },
     "execution_count": 36,
     "metadata": {},
     "output_type": "execute_result"
    }
   ],
   "source": [
    "x"
   ]
  },
  {
   "cell_type": "markdown",
   "id": "5dc767ec",
   "metadata": {},
   "source": [
    "### 5)keys( ):\n",
    "The keys() method extracts the keys of the dictionary and returns the list of keys as a view object."
   ]
  },
  {
   "cell_type": "code",
   "execution_count": 38,
   "id": "1c07ed11",
   "metadata": {},
   "outputs": [
    {
     "name": "stdout",
     "output_type": "stream",
     "text": [
      "Help on method_descriptor:\n",
      "\n",
      "keys(...)\n",
      "    D.keys() -> a set-like object providing a view on D's keys\n",
      "\n"
     ]
    }
   ],
   "source": [
    "help(dict.keys)"
   ]
  },
  {
   "cell_type": "code",
   "execution_count": 39,
   "id": "0049e6bb",
   "metadata": {},
   "outputs": [],
   "source": [
    "person = {\"name\":\"Tom\",\n",
    "          \"age\":25,\n",
    "          \"city\":\"Hyderabad\",\n",
    "          \"role\":\"Data scientist\",\n",
    "          \"email\":\"tom@gmail.com\"\n",
    "          }"
   ]
  },
  {
   "cell_type": "code",
   "execution_count": 40,
   "id": "cd0638ba",
   "metadata": {},
   "outputs": [
    {
     "data": {
      "text/plain": [
       "{'name': 'Tom',\n",
       " 'age': 25,\n",
       " 'city': 'Hyderabad',\n",
       " 'role': 'Data scientist',\n",
       " 'email': 'tom@gmail.com'}"
      ]
     },
     "execution_count": 40,
     "metadata": {},
     "output_type": "execute_result"
    }
   ],
   "source": [
    "person"
   ]
  },
  {
   "cell_type": "code",
   "execution_count": 41,
   "id": "ba12937d",
   "metadata": {},
   "outputs": [
    {
     "data": {
      "text/plain": [
       "dict_keys(['name', 'age', 'city', 'role', 'email'])"
      ]
     },
     "execution_count": 41,
     "metadata": {},
     "output_type": "execute_result"
    }
   ],
   "source": [
    "x = person.keys()\n",
    "x"
   ]
  },
  {
   "cell_type": "markdown",
   "id": "f3c69d7d",
   "metadata": {},
   "source": [
    "### 6)values( ):\n",
    "The values() method returns a view object that displays a list of all the values in the dictionary."
   ]
  },
  {
   "cell_type": "code",
   "execution_count": 42,
   "id": "09eaa64e",
   "metadata": {},
   "outputs": [
    {
     "name": "stdout",
     "output_type": "stream",
     "text": [
      "Help on method_descriptor:\n",
      "\n",
      "values(...)\n",
      "    D.values() -> an object providing a view on D's values\n",
      "\n"
     ]
    }
   ],
   "source": [
    "help(dict.values)"
   ]
  },
  {
   "cell_type": "code",
   "execution_count": 43,
   "id": "6363f09a",
   "metadata": {},
   "outputs": [
    {
     "data": {
      "text/plain": [
       "{'name': 'Tom',\n",
       " 'age': 25,\n",
       " 'city': 'Hyderabad',\n",
       " 'role': 'Data scientist',\n",
       " 'email': 'tom@gmail.com'}"
      ]
     },
     "execution_count": 43,
     "metadata": {},
     "output_type": "execute_result"
    }
   ],
   "source": [
    "person"
   ]
  },
  {
   "cell_type": "code",
   "execution_count": 44,
   "id": "26c483bb",
   "metadata": {},
   "outputs": [
    {
     "data": {
      "text/plain": [
       "dict_values(['Tom', 25, 'Hyderabad', 'Data scientist', 'tom@gmail.com'])"
      ]
     },
     "execution_count": 44,
     "metadata": {},
     "output_type": "execute_result"
    }
   ],
   "source": [
    "x = person.values()\n",
    "x"
   ]
  },
  {
   "cell_type": "markdown",
   "id": "adc36c7b",
   "metadata": {},
   "source": [
    "### 7)items( ):\n",
    "The items() method returns a view object that displays a list of dictionary's (key, value) tuple pairs."
   ]
  },
  {
   "cell_type": "code",
   "execution_count": 45,
   "id": "2dbf5e77",
   "metadata": {},
   "outputs": [
    {
     "name": "stdout",
     "output_type": "stream",
     "text": [
      "Help on method_descriptor:\n",
      "\n",
      "items(...)\n",
      "    D.items() -> a set-like object providing a view on D's items\n",
      "\n"
     ]
    }
   ],
   "source": [
    "help(dict.items)"
   ]
  },
  {
   "cell_type": "code",
   "execution_count": 46,
   "id": "9675295f",
   "metadata": {},
   "outputs": [
    {
     "data": {
      "text/plain": [
       "{'name': 'Tom',\n",
       " 'age': 25,\n",
       " 'city': 'Hyderabad',\n",
       " 'role': 'Data scientist',\n",
       " 'email': 'tom@gmail.com'}"
      ]
     },
     "execution_count": 46,
     "metadata": {},
     "output_type": "execute_result"
    }
   ],
   "source": [
    "person"
   ]
  },
  {
   "cell_type": "code",
   "execution_count": 47,
   "id": "e2109012",
   "metadata": {},
   "outputs": [
    {
     "data": {
      "text/plain": [
       "dict_items([('name', 'Tom'), ('age', 25), ('city', 'Hyderabad'), ('role', 'Data scientist'), ('email', 'tom@gmail.com')])"
      ]
     },
     "execution_count": 47,
     "metadata": {},
     "output_type": "execute_result"
    }
   ],
   "source": [
    "x = person.items()\n",
    "x"
   ]
  },
  {
   "cell_type": "markdown",
   "id": "f5428bd3",
   "metadata": {},
   "source": [
    "### 8)fromkeys( ):\n",
    "The fromkeys() method creates a dictionary from the given sequence of keys and values."
   ]
  },
  {
   "cell_type": "code",
   "execution_count": 48,
   "id": "f52fb18c",
   "metadata": {},
   "outputs": [
    {
     "name": "stdout",
     "output_type": "stream",
     "text": [
      "Help on built-in function fromkeys:\n",
      "\n",
      "fromkeys(iterable, value=None, /) method of builtins.type instance\n",
      "    Create a new dictionary with keys from iterable and values set to value.\n",
      "\n"
     ]
    }
   ],
   "source": [
    "help(dict.fromkeys)"
   ]
  },
  {
   "cell_type": "code",
   "execution_count": 17,
   "id": "80577260",
   "metadata": {},
   "outputs": [
    {
     "data": {
      "text/plain": [
       "{'name': 'Tom',\n",
       " 'age': 25,\n",
       " 'city': 'Hyderabad',\n",
       " 'role': 'Data scientist',\n",
       " 'email': 'tom@gmail.com'}"
      ]
     },
     "execution_count": 17,
     "metadata": {},
     "output_type": "execute_result"
    }
   ],
   "source": [
    "person"
   ]
  },
  {
   "cell_type": "code",
   "execution_count": 11,
   "id": "f887da86",
   "metadata": {},
   "outputs": [],
   "source": [
    "xx = {\"a\":10}"
   ]
  },
  {
   "cell_type": "code",
   "execution_count": 18,
   "id": "5bb9875e",
   "metadata": {},
   "outputs": [],
   "source": [
    "y = xx.fromkeys('person')"
   ]
  },
  {
   "cell_type": "code",
   "execution_count": 19,
   "id": "e067fd2a",
   "metadata": {},
   "outputs": [
    {
     "data": {
      "text/plain": [
       "{'p': None, 'e': None, 'r': None, 's': None, 'o': None, 'n': None}"
      ]
     },
     "execution_count": 19,
     "metadata": {},
     "output_type": "execute_result"
    }
   ],
   "source": [
    "y"
   ]
  },
  {
   "cell_type": "markdown",
   "id": "01c93c34",
   "metadata": {},
   "source": [
    "### 9)clear( ):\n",
    "The clear() method removes all items from the dictionary."
   ]
  },
  {
   "cell_type": "code",
   "execution_count": 51,
   "id": "79ca3fe0",
   "metadata": {},
   "outputs": [
    {
     "name": "stdout",
     "output_type": "stream",
     "text": [
      "Help on method_descriptor:\n",
      "\n",
      "clear(...)\n",
      "    D.clear() -> None.  Remove all items from D.\n",
      "\n"
     ]
    }
   ],
   "source": [
    "help(dict.clear)"
   ]
  },
  {
   "cell_type": "code",
   "execution_count": 52,
   "id": "f7499046",
   "metadata": {},
   "outputs": [
    {
     "data": {
      "text/plain": [
       "{'name': 'Tom',\n",
       " 'age': 25,\n",
       " 'city': 'Hyderabad',\n",
       " 'role': 'Data scientist',\n",
       " 'email': 'tom@gmail.com'}"
      ]
     },
     "execution_count": 52,
     "metadata": {},
     "output_type": "execute_result"
    }
   ],
   "source": [
    "person"
   ]
  },
  {
   "cell_type": "code",
   "execution_count": 54,
   "id": "ba4e9d9d",
   "metadata": {},
   "outputs": [],
   "source": [
    "person.clear()"
   ]
  },
  {
   "cell_type": "code",
   "execution_count": 55,
   "id": "61007a2b",
   "metadata": {},
   "outputs": [
    {
     "data": {
      "text/plain": [
       "{}"
      ]
     },
     "execution_count": 55,
     "metadata": {},
     "output_type": "execute_result"
    }
   ],
   "source": [
    "person"
   ]
  },
  {
   "cell_type": "markdown",
   "id": "35c5cee7",
   "metadata": {},
   "source": [
    "### 10)copy( ):\n",
    "They copy() method returns a copy (shallow copy) of the dictionary.It doesn't modify the original dictionary."
   ]
  },
  {
   "cell_type": "code",
   "execution_count": 57,
   "id": "f88b0ba6",
   "metadata": {},
   "outputs": [
    {
     "name": "stdout",
     "output_type": "stream",
     "text": [
      "Help on method_descriptor:\n",
      "\n",
      "copy(...)\n",
      "    D.copy() -> a shallow copy of D\n",
      "\n"
     ]
    }
   ],
   "source": [
    "help(dict.copy)"
   ]
  },
  {
   "cell_type": "code",
   "execution_count": 58,
   "id": "1842dfd8",
   "metadata": {},
   "outputs": [],
   "source": [
    "x={'a':10,\n",
    "   'b':20,\n",
    "   'c':30}"
   ]
  },
  {
   "cell_type": "code",
   "execution_count": 59,
   "id": "b6cb665e",
   "metadata": {},
   "outputs": [
    {
     "data": {
      "text/plain": [
       "{'a': 10, 'b': 20, 'c': 30}"
      ]
     },
     "execution_count": 59,
     "metadata": {},
     "output_type": "execute_result"
    }
   ],
   "source": [
    "x"
   ]
  },
  {
   "cell_type": "code",
   "execution_count": 60,
   "id": "b0cd4f3f",
   "metadata": {},
   "outputs": [
    {
     "data": {
      "text/plain": [
       "{'a': 10, 'b': 20, 'c': 30}"
      ]
     },
     "execution_count": 60,
     "metadata": {},
     "output_type": "execute_result"
    }
   ],
   "source": [
    "y = x.copy()\n",
    "y"
   ]
  },
  {
   "cell_type": "markdown",
   "id": "b7091bfe",
   "metadata": {},
   "source": [
    "### 11)setdefault( ):\n",
    "The dict.setdefault() method returns the value of the specified key in the dictionary. If the key is not found, then it adds the key with the specified defaultvalue. If the defaultvalue parameter is not specified, then it set None.\n",
    "\n",
    "Syntax:dict.setdefault(key, defaultValue)"
   ]
  },
  {
   "cell_type": "code",
   "execution_count": 2,
   "id": "7c31ccb7",
   "metadata": {},
   "outputs": [
    {
     "name": "stdout",
     "output_type": "stream",
     "text": [
      "Help on method_descriptor:\n",
      "\n",
      "setdefault(self, key, default=None, /)\n",
      "    Insert key with a value of default if key is not in the dictionary.\n",
      "    \n",
      "    Return the value for key if key is in the dictionary, else default.\n",
      "\n"
     ]
    }
   ],
   "source": [
    "help(dict.setdefault)"
   ]
  },
  {
   "cell_type": "code",
   "execution_count": 3,
   "id": "1891feef",
   "metadata": {},
   "outputs": [],
   "source": [
    "students = {\"ram\": 50,\"raju\":55,\"ravi\":47,\"raj\":61}"
   ]
  },
  {
   "cell_type": "code",
   "execution_count": 4,
   "id": "0323f2ae",
   "metadata": {},
   "outputs": [
    {
     "data": {
      "text/plain": [
       "{'ram': 50, 'raju': 55, 'ravi': 47, 'raj': 61}"
      ]
     },
     "execution_count": 4,
     "metadata": {},
     "output_type": "execute_result"
    }
   ],
   "source": [
    "students"
   ]
  },
  {
   "cell_type": "code",
   "execution_count": 8,
   "id": "0e8f5e48",
   "metadata": {},
   "outputs": [
    {
     "data": {
      "text/plain": [
       "55"
      ]
     },
     "execution_count": 8,
     "metadata": {},
     "output_type": "execute_result"
    }
   ],
   "source": [
    "students.setdefault(\"raju\")"
   ]
  },
  {
   "cell_type": "code",
   "execution_count": 7,
   "id": "000dd3a3",
   "metadata": {},
   "outputs": [],
   "source": [
    "students.setdefault(\"rames\") #it add the key 'rames'to the students dict with the default 'none' as the value to it because the key 'rames' not found in the students dict."
   ]
  },
  {
   "cell_type": "code",
   "execution_count": 6,
   "id": "07f52060",
   "metadata": {},
   "outputs": [
    {
     "data": {
      "text/plain": [
       "{'ram': 50, 'raju': 55, 'ravi': 47, 'raj': 61, 'rames': None}"
      ]
     },
     "execution_count": 6,
     "metadata": {},
     "output_type": "execute_result"
    }
   ],
   "source": [
    "students"
   ]
  },
  {
   "cell_type": "code",
   "execution_count": 9,
   "id": "a5b6b406",
   "metadata": {},
   "outputs": [
    {
     "data": {
      "text/plain": [
       "61"
      ]
     },
     "execution_count": 9,
     "metadata": {},
     "output_type": "execute_result"
    }
   ],
   "source": [
    "students.setdefault(\"rajesh\",61) #it adds the key 'rajesh' to the student dict with the given value 61"
   ]
  },
  {
   "cell_type": "code",
   "execution_count": 10,
   "id": "ac3d9461",
   "metadata": {},
   "outputs": [
    {
     "data": {
      "text/plain": [
       "{'ram': 50, 'raju': 55, 'ravi': 47, 'raj': 61, 'rames': None, 'rajesh': 61}"
      ]
     },
     "execution_count": 10,
     "metadata": {},
     "output_type": "execute_result"
    }
   ],
   "source": [
    "students"
   ]
  }
 ],
 "metadata": {
  "kernelspec": {
   "display_name": "Python 3 (ipykernel)",
   "language": "python",
   "name": "python3"
  },
  "language_info": {
   "codemirror_mode": {
    "name": "ipython",
    "version": 3
   },
   "file_extension": ".py",
   "mimetype": "text/x-python",
   "name": "python",
   "nbconvert_exporter": "python",
   "pygments_lexer": "ipython3",
   "version": "3.11.3"
  }
 },
 "nbformat": 4,
 "nbformat_minor": 5
}
